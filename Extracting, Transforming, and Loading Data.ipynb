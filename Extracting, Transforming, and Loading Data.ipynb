{
 "cells": [
  {
   "cell_type": "markdown",
   "metadata": {},
   "source": [
    "# Import software libraries"
   ]
  },
  {
   "cell_type": "code",
   "execution_count": 1,
   "metadata": {},
   "outputs": [
    {
     "name": "stdout",
     "output_type": "stream",
     "text": [
      "Libraries used in this project:\n",
      "- Python 3.9.6 (default, Mar 10 2023, 20:16:38) \n",
      "[Clang 14.0.3 (clang-1403.0.22.14.1)]\n",
      "- pandas 2.0.0\n",
      "- sqlite3 3.39.5\n"
     ]
    }
   ],
   "source": [
    "import sys           # Read system parameters.\n",
    "import pandas as pd  # Manipulate and analyze data.\n",
    "import sqlite3       # Manage SQL databases.\n",
    "\n",
    "# Summarize software libraries used.\n",
    "print('Libraries used in this project:')\n",
    "print('- Python {}'.format(sys.version))\n",
    "print('- pandas {}'.format(pd.__version__))\n",
    "print('- sqlite3 {}'.format(sqlite3.sqlite_version))"
   ]
  },
  {
   "cell_type": "markdown",
   "metadata": {},
   "source": [
    "# Load a CSV file as a `DataFrame`"
   ]
  },
  {
   "cell_type": "code",
   "execution_count": 2,
   "metadata": {
    "executionInfo": {
     "elapsed": 924,
     "status": "ok",
     "timestamp": 1613413622995,
     "user": {
      "displayName": "Sarah Haq",
      "photoUrl": "https://lh3.googleusercontent.com/a-/AOh14Gh7vs3P5_F3LYi7bEV8r1vbltDxEgpoYXmxHgxGBw=s64",
      "userId": "16294508270436203551"
     },
     "user_tz": -60
    },
    "id": "IyyeLURm006N"
   },
   "outputs": [],
   "source": [
    "Divvy_Trips_2019_Q2 = pd.read_csv('/Users/jiawenzhu/Developer/Google Analyst Case Study/data/Divvy_Trips_2019_Q2.csv')\n",
    "Divvy_Trips_2019_Q3 = pd.read_csv('/Users/jiawenzhu/Developer/Google Analyst Case Study/data/Divvy_Trips_2019_Q3.csv')\n",
    "Divvy_Trips_2019_Q4 = pd.read_csv('/Users/jiawenzhu/Developer/Google Analyst Case Study/data/Divvy_Trips_2019_Q4.csv')\n",
    "Divvy_Trips_2020_Q1 = pd.read_csv('/Users/jiawenzhu/Developer/Google Analyst Case Study/data/Divvy_Trips_2020_Q1.csv')"
   ]
  },
  {
   "cell_type": "markdown",
   "metadata": {},
   "source": [
    "# Preview the first three rows of the data"
   ]
  },
  {
   "cell_type": "code",
   "execution_count": 3,
   "metadata": {
    "colab": {
     "base_uri": "https://localhost:8080/",
     "height": 227
    },
    "executionInfo": {
     "elapsed": 756,
     "status": "ok",
     "timestamp": 1613413622996,
     "user": {
      "displayName": "Sarah Haq",
      "photoUrl": "https://lh3.googleusercontent.com/a-/AOh14Gh7vs3P5_F3LYi7bEV8r1vbltDxEgpoYXmxHgxGBw=s64",
      "userId": "16294508270436203551"
     },
     "user_tz": -60
    },
    "id": "kFwBa_E42Mak",
    "outputId": "f42ee491-f039-4c41-d40b-118fa5820b1c"
   },
   "outputs": [
    {
     "data": {
      "text/html": [
       "<div>\n",
       "<style scoped>\n",
       "    .dataframe tbody tr th:only-of-type {\n",
       "        vertical-align: middle;\n",
       "    }\n",
       "\n",
       "    .dataframe tbody tr th {\n",
       "        vertical-align: top;\n",
       "    }\n",
       "\n",
       "    .dataframe thead th {\n",
       "        text-align: right;\n",
       "    }\n",
       "</style>\n",
       "<table border=\"1\" class=\"dataframe\">\n",
       "  <thead>\n",
       "    <tr style=\"text-align: right;\">\n",
       "      <th></th>\n",
       "      <th>01 - Rental Details Rental ID</th>\n",
       "      <th>01 - Rental Details Local Start Time</th>\n",
       "      <th>01 - Rental Details Local End Time</th>\n",
       "      <th>01 - Rental Details Bike ID</th>\n",
       "      <th>01 - Rental Details Duration In Seconds Uncapped</th>\n",
       "      <th>03 - Rental Start Station ID</th>\n",
       "      <th>03 - Rental Start Station Name</th>\n",
       "      <th>02 - Rental End Station ID</th>\n",
       "      <th>02 - Rental End Station Name</th>\n",
       "      <th>User Type</th>\n",
       "      <th>Member Gender</th>\n",
       "      <th>05 - Member Details Member Birthday Year</th>\n",
       "    </tr>\n",
       "  </thead>\n",
       "  <tbody>\n",
       "    <tr>\n",
       "      <th>0</th>\n",
       "      <td>22178529</td>\n",
       "      <td>2019-04-01 00:02:22</td>\n",
       "      <td>2019-04-01 00:09:48</td>\n",
       "      <td>6251</td>\n",
       "      <td>446.0</td>\n",
       "      <td>81</td>\n",
       "      <td>Daley Center Plaza</td>\n",
       "      <td>56</td>\n",
       "      <td>Desplaines St &amp; Kinzie St</td>\n",
       "      <td>Subscriber</td>\n",
       "      <td>Male</td>\n",
       "      <td>1975.0</td>\n",
       "    </tr>\n",
       "    <tr>\n",
       "      <th>1</th>\n",
       "      <td>22178530</td>\n",
       "      <td>2019-04-01 00:03:02</td>\n",
       "      <td>2019-04-01 00:20:30</td>\n",
       "      <td>6226</td>\n",
       "      <td>1,048.0</td>\n",
       "      <td>317</td>\n",
       "      <td>Wood St &amp; Taylor St</td>\n",
       "      <td>59</td>\n",
       "      <td>Wabash Ave &amp; Roosevelt Rd</td>\n",
       "      <td>Subscriber</td>\n",
       "      <td>Female</td>\n",
       "      <td>1984.0</td>\n",
       "    </tr>\n",
       "    <tr>\n",
       "      <th>2</th>\n",
       "      <td>22178531</td>\n",
       "      <td>2019-04-01 00:11:07</td>\n",
       "      <td>2019-04-01 00:15:19</td>\n",
       "      <td>5649</td>\n",
       "      <td>252.0</td>\n",
       "      <td>283</td>\n",
       "      <td>LaSalle St &amp; Jackson Blvd</td>\n",
       "      <td>174</td>\n",
       "      <td>Canal St &amp; Madison St</td>\n",
       "      <td>Subscriber</td>\n",
       "      <td>Male</td>\n",
       "      <td>1990.0</td>\n",
       "    </tr>\n",
       "  </tbody>\n",
       "</table>\n",
       "</div>"
      ],
      "text/plain": [
       "   01 - Rental Details Rental ID 01 - Rental Details Local Start Time   \n",
       "0                       22178529                  2019-04-01 00:02:22  \\\n",
       "1                       22178530                  2019-04-01 00:03:02   \n",
       "2                       22178531                  2019-04-01 00:11:07   \n",
       "\n",
       "  01 - Rental Details Local End Time  01 - Rental Details Bike ID   \n",
       "0                2019-04-01 00:09:48                         6251  \\\n",
       "1                2019-04-01 00:20:30                         6226   \n",
       "2                2019-04-01 00:15:19                         5649   \n",
       "\n",
       "  01 - Rental Details Duration In Seconds Uncapped   \n",
       "0                                            446.0  \\\n",
       "1                                          1,048.0   \n",
       "2                                            252.0   \n",
       "\n",
       "   03 - Rental Start Station ID 03 - Rental Start Station Name   \n",
       "0                            81             Daley Center Plaza  \\\n",
       "1                           317            Wood St & Taylor St   \n",
       "2                           283      LaSalle St & Jackson Blvd   \n",
       "\n",
       "   02 - Rental End Station ID 02 - Rental End Station Name   User Type   \n",
       "0                          56    Desplaines St & Kinzie St  Subscriber  \\\n",
       "1                          59    Wabash Ave & Roosevelt Rd  Subscriber   \n",
       "2                         174        Canal St & Madison St  Subscriber   \n",
       "\n",
       "  Member Gender  05 - Member Details Member Birthday Year  \n",
       "0          Male                                    1975.0  \n",
       "1        Female                                    1984.0  \n",
       "2          Male                                    1990.0  "
      ]
     },
     "execution_count": 3,
     "metadata": {},
     "output_type": "execute_result"
    }
   ],
   "source": [
    "Divvy_Trips_2019_Q2.head(3)"
   ]
  },
  {
   "cell_type": "markdown",
   "metadata": {},
   "source": [
    "# Create a connection to the SQLite database"
   ]
  },
  {
   "cell_type": "code",
   "execution_count": 4,
   "metadata": {
    "executionInfo": {
     "elapsed": 1288,
     "status": "ok",
     "timestamp": 1613413769740,
     "user": {
      "displayName": "Sarah Haq",
      "photoUrl": "https://lh3.googleusercontent.com/a-/AOh14Gh7vs3P5_F3LYi7bEV8r1vbltDxEgpoYXmxHgxGBw=s64",
      "userId": "16294508270436203551"
     },
     "user_tz": -60
    },
    "id": "prrBmvH6421z"
   },
   "outputs": [
    {
     "data": {
      "text/plain": [
       "<sqlite3.Connection at 0x1322aee40>"
      ]
     },
     "execution_count": 4,
     "metadata": {},
     "output_type": "execute_result"
    }
   ],
   "source": [
    "conn = sqlite3.connect('Google Analyst Case Study/data/user_data.db')\n",
    "conn"
   ]
  },
  {
   "cell_type": "markdown",
   "metadata": {},
   "source": [
    "# Read the `users` data"
   ]
  },
  {
   "cell_type": "code",
   "execution_count": 5,
   "metadata": {
    "executionInfo": {
     "elapsed": 3590,
     "status": "ok",
     "timestamp": 1613256967021,
     "user": {
      "displayName": "Sarah Haq",
      "photoUrl": "https://lh3.googleusercontent.com/a-/AOh14Gh7vs3P5_F3LYi7bEV8r1vbltDxEgpoYXmxHgxGBw=s64",
      "userId": "16294508270436203551"
     },
     "user_tz": -60
    },
    "id": "z2Jj-Era3Iwv"
   },
   "outputs": [],
   "source": [
    "# Write a query that selects everything from the users table.\n",
    "query = 'SELECT * FROM users'"
   ]
  },
  {
   "cell_type": "code",
   "execution_count": 6,
   "metadata": {
    "colab": {
     "base_uri": "https://localhost:8080/",
     "height": 289
    },
    "executionInfo": {
     "elapsed": 4676,
     "status": "ok",
     "timestamp": 1613256968111,
     "user": {
      "displayName": "Sarah Haq",
      "photoUrl": "https://lh3.googleusercontent.com/a-/AOh14Gh7vs3P5_F3LYi7bEV8r1vbltDxEgpoYXmxHgxGBw=s64",
      "userId": "16294508270436203551"
     },
     "user_tz": -60
    },
    "id": "qahj22HL7LgX",
    "outputId": "26f40849-1ce3-4dd9-fe91-9934f8602446"
   },
   "outputs": [
    {
     "data": {
      "text/html": [
       "<div>\n",
       "<style scoped>\n",
       "    .dataframe tbody tr th:only-of-type {\n",
       "        vertical-align: middle;\n",
       "    }\n",
       "\n",
       "    .dataframe tbody tr th {\n",
       "        vertical-align: top;\n",
       "    }\n",
       "\n",
       "    .dataframe thead th {\n",
       "        text-align: right;\n",
       "    }\n",
       "</style>\n",
       "<table border=\"1\" class=\"dataframe\">\n",
       "  <thead>\n",
       "    <tr style=\"text-align: right;\">\n",
       "      <th></th>\n",
       "      <th>user_id</th>\n",
       "      <th>age</th>\n",
       "      <th>job</th>\n",
       "      <th>marital</th>\n",
       "      <th>education</th>\n",
       "      <th>default</th>\n",
       "      <th>housing</th>\n",
       "      <th>loan</th>\n",
       "      <th>contact</th>\n",
       "      <th>duration</th>\n",
       "      <th>campaign</th>\n",
       "      <th>pdays</th>\n",
       "      <th>previous</th>\n",
       "      <th>poutcome</th>\n",
       "      <th>term_deposit</th>\n",
       "      <th>date_joined</th>\n",
       "    </tr>\n",
       "  </thead>\n",
       "  <tbody>\n",
       "    <tr>\n",
       "      <th>0</th>\n",
       "      <td>9231c446-cb16-4b2b-a7f7-ddfc8b25aaf6</td>\n",
       "      <td>58</td>\n",
       "      <td>management</td>\n",
       "      <td>married</td>\n",
       "      <td>tertiary</td>\n",
       "      <td>no</td>\n",
       "      <td>yes</td>\n",
       "      <td>no</td>\n",
       "      <td>None</td>\n",
       "      <td>261</td>\n",
       "      <td>1</td>\n",
       "      <td>-1</td>\n",
       "      <td>0</td>\n",
       "      <td>None</td>\n",
       "      <td>no</td>\n",
       "      <td>1998-08-23</td>\n",
       "    </tr>\n",
       "    <tr>\n",
       "      <th>1</th>\n",
       "      <td>bb92765a-08de-4963-b432-496524b39157</td>\n",
       "      <td>44</td>\n",
       "      <td>technician</td>\n",
       "      <td>single</td>\n",
       "      <td>secondary</td>\n",
       "      <td>no</td>\n",
       "      <td>yes</td>\n",
       "      <td>no</td>\n",
       "      <td>None</td>\n",
       "      <td>151</td>\n",
       "      <td>1</td>\n",
       "      <td>-1</td>\n",
       "      <td>0</td>\n",
       "      <td>None</td>\n",
       "      <td>no</td>\n",
       "      <td>2008-07-15</td>\n",
       "    </tr>\n",
       "    <tr>\n",
       "      <th>2</th>\n",
       "      <td>573de577-49ef-42b9-83da-d3cfb817b5c1</td>\n",
       "      <td>33</td>\n",
       "      <td>entrepreneur</td>\n",
       "      <td>married</td>\n",
       "      <td>secondary</td>\n",
       "      <td>no</td>\n",
       "      <td>yes</td>\n",
       "      <td>yes</td>\n",
       "      <td>None</td>\n",
       "      <td>76</td>\n",
       "      <td>1</td>\n",
       "      <td>-1</td>\n",
       "      <td>0</td>\n",
       "      <td>None</td>\n",
       "      <td>no</td>\n",
       "      <td>2002-06-04</td>\n",
       "    </tr>\n",
       "    <tr>\n",
       "      <th>3</th>\n",
       "      <td>d6b66b9d-7c8f-4257-a682-e136f640b7e3</td>\n",
       "      <td>47</td>\n",
       "      <td>blue-collar</td>\n",
       "      <td>married</td>\n",
       "      <td>None</td>\n",
       "      <td>no</td>\n",
       "      <td>yes</td>\n",
       "      <td>no</td>\n",
       "      <td>None</td>\n",
       "      <td>92</td>\n",
       "      <td>1</td>\n",
       "      <td>-1</td>\n",
       "      <td>0</td>\n",
       "      <td>None</td>\n",
       "      <td>no</td>\n",
       "      <td>1995-06-29</td>\n",
       "    </tr>\n",
       "    <tr>\n",
       "      <th>4</th>\n",
       "      <td>fade0b20-7594-4d9a-84cd-c02f79b1b526</td>\n",
       "      <td>33</td>\n",
       "      <td>None</td>\n",
       "      <td>single</td>\n",
       "      <td>None</td>\n",
       "      <td>no</td>\n",
       "      <td>no</td>\n",
       "      <td>no</td>\n",
       "      <td>None</td>\n",
       "      <td>198</td>\n",
       "      <td>1</td>\n",
       "      <td>-1</td>\n",
       "      <td>0</td>\n",
       "      <td>None</td>\n",
       "      <td>no</td>\n",
       "      <td>1995-08-01</td>\n",
       "    </tr>\n",
       "  </tbody>\n",
       "</table>\n",
       "</div>"
      ],
      "text/plain": [
       "                                user_id  age           job  marital   \n",
       "0  9231c446-cb16-4b2b-a7f7-ddfc8b25aaf6   58    management  married  \\\n",
       "1  bb92765a-08de-4963-b432-496524b39157   44    technician   single   \n",
       "2  573de577-49ef-42b9-83da-d3cfb817b5c1   33  entrepreneur  married   \n",
       "3  d6b66b9d-7c8f-4257-a682-e136f640b7e3   47   blue-collar  married   \n",
       "4  fade0b20-7594-4d9a-84cd-c02f79b1b526   33          None   single   \n",
       "\n",
       "   education default housing loan contact  duration  campaign  pdays   \n",
       "0   tertiary      no     yes   no    None       261         1     -1  \\\n",
       "1  secondary      no     yes   no    None       151         1     -1   \n",
       "2  secondary      no     yes  yes    None        76         1     -1   \n",
       "3       None      no     yes   no    None        92         1     -1   \n",
       "4       None      no      no   no    None       198         1     -1   \n",
       "\n",
       "   previous poutcome term_deposit date_joined  \n",
       "0         0     None           no  1998-08-23  \n",
       "1         0     None           no  2008-07-15  \n",
       "2         0     None           no  2002-06-04  \n",
       "3         0     None           no  1995-06-29  \n",
       "4         0     None           no  1995-08-01  "
      ]
     },
     "execution_count": 6,
     "metadata": {},
     "output_type": "execute_result"
    }
   ],
   "source": [
    "# Read the query into a DataFrame.\n",
    "users = pd.read_sql(query, conn)\n",
    "\n",
    "\n",
    "# Preview the data.\n",
    "users.head()\n"
   ]
  },
  {
   "cell_type": "code",
   "execution_count": 7,
   "metadata": {
    "colab": {
     "base_uri": "https://localhost:8080/"
    },
    "executionInfo": {
     "elapsed": 4672,
     "status": "ok",
     "timestamp": 1613256968112,
     "user": {
      "displayName": "Sarah Haq",
      "photoUrl": "https://lh3.googleusercontent.com/a-/AOh14Gh7vs3P5_F3LYi7bEV8r1vbltDxEgpoYXmxHgxGBw=s64",
      "userId": "16294508270436203551"
     },
     "user_tz": -60
    },
    "id": "0ZU5TK2Q5Q-B",
    "outputId": "a92229a0-00bd-4445-bdbe-47087f15d946"
   },
   "outputs": [],
   "source": [
    "# Check the shape of the data.\n",
    "\n"
   ]
  },
  {
   "cell_type": "markdown",
   "metadata": {},
   "source": [
    "# Read the `device` data"
   ]
  },
  {
   "cell_type": "code",
   "execution_count": 8,
   "metadata": {
    "colab": {
     "base_uri": "https://localhost:8080/",
     "height": 204
    },
    "executionInfo": {
     "elapsed": 4667,
     "status": "ok",
     "timestamp": 1613256968113,
     "user": {
      "displayName": "Sarah Haq",
      "photoUrl": "https://lh3.googleusercontent.com/a-/AOh14Gh7vs3P5_F3LYi7bEV8r1vbltDxEgpoYXmxHgxGBw=s64",
      "userId": "16294508270436203551"
     },
     "user_tz": -60
    },
    "id": "pjvmcl1eiWWN",
    "outputId": "19de3c4b-4557-416b-9800-18b4b3126f8a"
   },
   "outputs": [],
   "source": [
    "query = 'SELECT * FROM device'\n",
    "\n",
    "device = pd.read_sql(query, conn)\n",
    "\n",
    "\n"
   ]
  },
  {
   "cell_type": "code",
   "execution_count": 9,
   "metadata": {
    "colab": {
     "base_uri": "https://localhost:8080/"
    },
    "executionInfo": {
     "elapsed": 4664,
     "status": "ok",
     "timestamp": 1613256968114,
     "user": {
      "displayName": "Sarah Haq",
      "photoUrl": "https://lh3.googleusercontent.com/a-/AOh14Gh7vs3P5_F3LYi7bEV8r1vbltDxEgpoYXmxHgxGBw=s64",
      "userId": "16294508270436203551"
     },
     "user_tz": -60
    },
    "id": "g_4isFVa7vTN",
    "outputId": "4b88b495-ebfb-423d-ede3-028f32aaa1b0"
   },
   "outputs": [
    {
     "data": {
      "text/html": [
       "<div>\n",
       "<style scoped>\n",
       "    .dataframe tbody tr th:only-of-type {\n",
       "        vertical-align: middle;\n",
       "    }\n",
       "\n",
       "    .dataframe tbody tr th {\n",
       "        vertical-align: top;\n",
       "    }\n",
       "\n",
       "    .dataframe thead th {\n",
       "        text-align: right;\n",
       "    }\n",
       "</style>\n",
       "<table border=\"1\" class=\"dataframe\">\n",
       "  <thead>\n",
       "    <tr style=\"text-align: right;\">\n",
       "      <th></th>\n",
       "      <th>user_id</th>\n",
       "      <th>device</th>\n",
       "    </tr>\n",
       "  </thead>\n",
       "  <tbody>\n",
       "    <tr>\n",
       "      <th>0</th>\n",
       "      <td>9231c446-cb16-4b2b-a7f7-ddfc8b25aaf6</td>\n",
       "      <td>mobile</td>\n",
       "    </tr>\n",
       "    <tr>\n",
       "      <th>1</th>\n",
       "      <td>bb92765a-08de-4963-b432-496524b39157</td>\n",
       "      <td>desktop</td>\n",
       "    </tr>\n",
       "    <tr>\n",
       "      <th>2</th>\n",
       "      <td>573de577-49ef-42b9-83da-d3cfb817b5c1</td>\n",
       "      <td>mobile</td>\n",
       "    </tr>\n",
       "    <tr>\n",
       "      <th>3</th>\n",
       "      <td>d6b66b9d-7c8f-4257-a682-e136f640b7e3</td>\n",
       "      <td>tablet</td>\n",
       "    </tr>\n",
       "    <tr>\n",
       "      <th>4</th>\n",
       "      <td>fade0b20-7594-4d9a-84cd-c02f79b1b526</td>\n",
       "      <td>mobile</td>\n",
       "    </tr>\n",
       "  </tbody>\n",
       "</table>\n",
       "</div>"
      ],
      "text/plain": [
       "                                user_id   device\n",
       "0  9231c446-cb16-4b2b-a7f7-ddfc8b25aaf6   mobile\n",
       "1  bb92765a-08de-4963-b432-496524b39157  desktop\n",
       "2  573de577-49ef-42b9-83da-d3cfb817b5c1   mobile\n",
       "3  d6b66b9d-7c8f-4257-a682-e136f640b7e3   tablet\n",
       "4  fade0b20-7594-4d9a-84cd-c02f79b1b526   mobile"
      ]
     },
     "execution_count": 9,
     "metadata": {},
     "output_type": "execute_result"
    }
   ],
   "source": [
    "device.head(5)"
   ]
  },
  {
   "cell_type": "markdown",
   "metadata": {},
   "source": [
    "# Read the `transactions` data"
   ]
  },
  {
   "cell_type": "code",
   "execution_count": 10,
   "metadata": {
    "colab": {
     "base_uri": "https://localhost:8080/",
     "height": 204
    },
    "executionInfo": {
     "elapsed": 4847,
     "status": "ok",
     "timestamp": 1613256968405,
     "user": {
      "displayName": "Sarah Haq",
      "photoUrl": "https://lh3.googleusercontent.com/a-/AOh14Gh7vs3P5_F3LYi7bEV8r1vbltDxEgpoYXmxHgxGBw=s64",
      "userId": "16294508270436203551"
     },
     "user_tz": -60
    },
    "id": "xpMXXnSF8QGC",
    "outputId": "860894fc-514b-4e9d-c74d-83ac4bfe209e"
   },
   "outputs": [],
   "source": [
    "# Read the user transactions in the last 30 days. \n",
    "query = '''\n",
    "        SELECT trans.*, users.date_joined\n",
    "        FROM transactions AS trans\n",
    "        LEFT JOIN users ON trans.user_id = users.user_id\n",
    "        WHERE users.date_joined >= Date('now', '-13 years')\n",
    "        GROUP BY users.date_joined\n",
    "        ORDER BY trans.amount_usd DESC\n",
    "        '''\n",
    "transactions = pd.read_sql(query, conn)\n",
    "\n",
    "\n"
   ]
  },
  {
   "cell_type": "code",
   "execution_count": 11,
   "metadata": {
    "colab": {
     "base_uri": "https://localhost:8080/"
    },
    "executionInfo": {
     "elapsed": 4714,
     "status": "ok",
     "timestamp": 1613256968406,
     "user": {
      "displayName": "Sarah Haq",
      "photoUrl": "https://lh3.googleusercontent.com/a-/AOh14Gh7vs3P5_F3LYi7bEV8r1vbltDxEgpoYXmxHgxGBw=s64",
      "userId": "16294508270436203551"
     },
     "user_tz": -60
    },
    "id": "iNqI4n75-B7a",
    "outputId": "32688ef6-bd5b-4107-800a-e75230c821a4"
   },
   "outputs": [
    {
     "data": {
      "text/html": [
       "<div>\n",
       "<style scoped>\n",
       "    .dataframe tbody tr th:only-of-type {\n",
       "        vertical-align: middle;\n",
       "    }\n",
       "\n",
       "    .dataframe tbody tr th {\n",
       "        vertical-align: top;\n",
       "    }\n",
       "\n",
       "    .dataframe thead th {\n",
       "        text-align: right;\n",
       "    }\n",
       "</style>\n",
       "<table border=\"1\" class=\"dataframe\">\n",
       "  <thead>\n",
       "    <tr style=\"text-align: right;\">\n",
       "      <th></th>\n",
       "      <th>user_id</th>\n",
       "      <th>transaction_id</th>\n",
       "      <th>amount_usd</th>\n",
       "      <th>date_joined</th>\n",
       "    </tr>\n",
       "  </thead>\n",
       "  <tbody>\n",
       "    <tr>\n",
       "      <th>0</th>\n",
       "      <td>2df9a93f-7550-45d0-94e1-aa636960ea24</td>\n",
       "      <td>transaction_5761</td>\n",
       "      <td>4448</td>\n",
       "      <td>2010-09-18</td>\n",
       "    </tr>\n",
       "    <tr>\n",
       "      <th>1</th>\n",
       "      <td>fdd6d434-39ca-4f14-8cb1-e2dd25f3b012</td>\n",
       "      <td>transaction_4943</td>\n",
       "      <td>2561</td>\n",
       "      <td>2010-10-23</td>\n",
       "    </tr>\n",
       "    <tr>\n",
       "      <th>2</th>\n",
       "      <td>064127f3-f625-4272-8c83-65d6e271d57c</td>\n",
       "      <td>transaction_4840</td>\n",
       "      <td>2529</td>\n",
       "      <td>2010-11-29</td>\n",
       "    </tr>\n",
       "    <tr>\n",
       "      <th>3</th>\n",
       "      <td>e4b7acb3-a099-4d73-b905-e57c623e9133</td>\n",
       "      <td>transaction_4733</td>\n",
       "      <td>2469</td>\n",
       "      <td>2010-09-03</td>\n",
       "    </tr>\n",
       "    <tr>\n",
       "      <th>4</th>\n",
       "      <td>18ea0eae-265b-4f3c-8024-f64c95b83eec</td>\n",
       "      <td>transaction_5814</td>\n",
       "      <td>2405</td>\n",
       "      <td>2010-09-28</td>\n",
       "    </tr>\n",
       "    <tr>\n",
       "      <th>...</th>\n",
       "      <td>...</td>\n",
       "      <td>...</td>\n",
       "      <td>...</td>\n",
       "      <td>...</td>\n",
       "    </tr>\n",
       "    <tr>\n",
       "      <th>214</th>\n",
       "      <td>20b92ff3-55f9-4cbe-a006-d6b304a72aa0</td>\n",
       "      <td>transaction_4915</td>\n",
       "      <td>-172</td>\n",
       "      <td>2010-06-17</td>\n",
       "    </tr>\n",
       "    <tr>\n",
       "      <th>215</th>\n",
       "      <td>c55f104a-dd98-42d6-8dcb-253149fba805</td>\n",
       "      <td>transaction_4542</td>\n",
       "      <td>-194</td>\n",
       "      <td>2010-08-31</td>\n",
       "    </tr>\n",
       "    <tr>\n",
       "      <th>216</th>\n",
       "      <td>c0e5d09f-603b-4e6d-b911-4e14e0ff8dae</td>\n",
       "      <td>transaction_4817</td>\n",
       "      <td>-501</td>\n",
       "      <td>2010-10-19</td>\n",
       "    </tr>\n",
       "    <tr>\n",
       "      <th>217</th>\n",
       "      <td>5e8112c5-cc17-4b7c-902b-ed50c992e0f7</td>\n",
       "      <td>transaction_4934</td>\n",
       "      <td>-522</td>\n",
       "      <td>2010-08-17</td>\n",
       "    </tr>\n",
       "    <tr>\n",
       "      <th>218</th>\n",
       "      <td>f035d57b-6ab6-4044-86f9-0cb0d9e38028</td>\n",
       "      <td>transaction_4546</td>\n",
       "      <td>-601</td>\n",
       "      <td>2010-09-17</td>\n",
       "    </tr>\n",
       "  </tbody>\n",
       "</table>\n",
       "<p>219 rows × 4 columns</p>\n",
       "</div>"
      ],
      "text/plain": [
       "                                  user_id    transaction_id  amount_usd   \n",
       "0    2df9a93f-7550-45d0-94e1-aa636960ea24  transaction_5761        4448  \\\n",
       "1    fdd6d434-39ca-4f14-8cb1-e2dd25f3b012  transaction_4943        2561   \n",
       "2    064127f3-f625-4272-8c83-65d6e271d57c  transaction_4840        2529   \n",
       "3    e4b7acb3-a099-4d73-b905-e57c623e9133  transaction_4733        2469   \n",
       "4    18ea0eae-265b-4f3c-8024-f64c95b83eec  transaction_5814        2405   \n",
       "..                                    ...               ...         ...   \n",
       "214  20b92ff3-55f9-4cbe-a006-d6b304a72aa0  transaction_4915        -172   \n",
       "215  c55f104a-dd98-42d6-8dcb-253149fba805  transaction_4542        -194   \n",
       "216  c0e5d09f-603b-4e6d-b911-4e14e0ff8dae  transaction_4817        -501   \n",
       "217  5e8112c5-cc17-4b7c-902b-ed50c992e0f7  transaction_4934        -522   \n",
       "218  f035d57b-6ab6-4044-86f9-0cb0d9e38028  transaction_4546        -601   \n",
       "\n",
       "    date_joined  \n",
       "0    2010-09-18  \n",
       "1    2010-10-23  \n",
       "2    2010-11-29  \n",
       "3    2010-09-03  \n",
       "4    2010-09-28  \n",
       "..          ...  \n",
       "214  2010-06-17  \n",
       "215  2010-08-31  \n",
       "216  2010-10-19  \n",
       "217  2010-08-17  \n",
       "218  2010-09-17  \n",
       "\n",
       "[219 rows x 4 columns]"
      ]
     },
     "execution_count": 11,
     "metadata": {},
     "output_type": "execute_result"
    }
   ],
   "source": [
    "transactions"
   ]
  },
  {
   "cell_type": "markdown",
   "metadata": {},
   "source": [
    "# Aggregate the `transactions` data"
   ]
  },
  {
   "cell_type": "code",
   "execution_count": 12,
   "metadata": {
    "colab": {
     "base_uri": "https://localhost:8080/",
     "height": 204
    },
    "executionInfo": {
     "elapsed": 4961,
     "status": "ok",
     "timestamp": 1613256968791,
     "user": {
      "displayName": "Sarah Haq",
      "photoUrl": "https://lh3.googleusercontent.com/a-/AOh14Gh7vs3P5_F3LYi7bEV8r1vbltDxEgpoYXmxHgxGBw=s64",
      "userId": "16294508270436203551"
     },
     "user_tz": -60
    },
    "id": "4mWW58ux9Ciy",
    "outputId": "5ab0e19f-e9c0-4007-baed-0563ae63a77a"
   },
   "outputs": [],
   "source": [
    "# Aggregate data on the number of transactions and the total amount.\n",
    "\n",
    "query = '''\n",
    "        SELECT users.user_id, trans.transaction_id, SUM(trans.amount_usd) as total_amount, users.date_joined\n",
    "        FROM transactions AS trans\n",
    "        LEFT JOIN users ON trans.user_id = users.user_id\n",
    "        \n",
    "        WHERE users.date_joined >= Date('2010-11-30', '-1 month')\n",
    "        GROUP BY users.date_joined\n",
    "        ORDER BY total_amount DESC\n",
    "        '''\n",
    "\n",
    "aggregation_of_transactions = pd.read_sql(query, conn)\n",
    "\n",
    "\n",
    "\n",
    "\n",
    "\n"
   ]
  },
  {
   "cell_type": "code",
   "execution_count": 13,
   "metadata": {
    "colab": {
     "base_uri": "https://localhost:8080/"
    },
    "executionInfo": {
     "elapsed": 4817,
     "status": "ok",
     "timestamp": 1613256968791,
     "user": {
      "displayName": "Sarah Haq",
      "photoUrl": "https://lh3.googleusercontent.com/a-/AOh14Gh7vs3P5_F3LYi7bEV8r1vbltDxEgpoYXmxHgxGBw=s64",
      "userId": "16294508270436203551"
     },
     "user_tz": -60
    },
    "id": "dv1LJB-2-Eyb",
    "outputId": "a5d1f378-8a55-4db1-d11a-0759dd953180"
   },
   "outputs": [
    {
     "data": {
      "text/html": [
       "<div>\n",
       "<style scoped>\n",
       "    .dataframe tbody tr th:only-of-type {\n",
       "        vertical-align: middle;\n",
       "    }\n",
       "\n",
       "    .dataframe tbody tr th {\n",
       "        vertical-align: top;\n",
       "    }\n",
       "\n",
       "    .dataframe thead th {\n",
       "        text-align: right;\n",
       "    }\n",
       "</style>\n",
       "<table border=\"1\" class=\"dataframe\">\n",
       "  <thead>\n",
       "    <tr style=\"text-align: right;\">\n",
       "      <th></th>\n",
       "      <th>user_id</th>\n",
       "      <th>transaction_id</th>\n",
       "      <th>total_amount</th>\n",
       "      <th>date_joined</th>\n",
       "    </tr>\n",
       "  </thead>\n",
       "  <tbody>\n",
       "    <tr>\n",
       "      <th>0</th>\n",
       "      <td>45033378-0d23-4bea-9142-64dd6a51b51f</td>\n",
       "      <td>transaction_4719</td>\n",
       "      <td>28709</td>\n",
       "      <td>2010-11-17</td>\n",
       "    </tr>\n",
       "    <tr>\n",
       "      <th>1</th>\n",
       "      <td>a5320beb-c5c9-4e5e-b207-3164282a3b7a</td>\n",
       "      <td>transaction_4614</td>\n",
       "      <td>18524</td>\n",
       "      <td>2010-11-02</td>\n",
       "    </tr>\n",
       "    <tr>\n",
       "      <th>2</th>\n",
       "      <td>c9304a7f-6dea-40c7-ba35-85afa2c35185</td>\n",
       "      <td>transaction_5208</td>\n",
       "      <td>17400</td>\n",
       "      <td>2010-11-04</td>\n",
       "    </tr>\n",
       "    <tr>\n",
       "      <th>3</th>\n",
       "      <td>00d6e3e9-ec1c-4f3c-9d6e-48d0456d4542</td>\n",
       "      <td>transaction_4743</td>\n",
       "      <td>16396</td>\n",
       "      <td>2010-11-21</td>\n",
       "    </tr>\n",
       "    <tr>\n",
       "      <th>4</th>\n",
       "      <td>e4acab7d-b7f4-4018-ac24-b523bf60d8d3</td>\n",
       "      <td>transaction_5291</td>\n",
       "      <td>15998</td>\n",
       "      <td>2010-11-30</td>\n",
       "    </tr>\n",
       "    <tr>\n",
       "      <th>5</th>\n",
       "      <td>c7329e7c-ed10-4314-87c1-03a4a369829b</td>\n",
       "      <td>transaction_4894</td>\n",
       "      <td>14810</td>\n",
       "      <td>2010-11-20</td>\n",
       "    </tr>\n",
       "    <tr>\n",
       "      <th>6</th>\n",
       "      <td>7eac59b2-2f8f-4e3b-9f14-fdb474950688</td>\n",
       "      <td>transaction_4712</td>\n",
       "      <td>9384</td>\n",
       "      <td>2010-11-03</td>\n",
       "    </tr>\n",
       "    <tr>\n",
       "      <th>7</th>\n",
       "      <td>18fae5bc-59cd-4e9c-9650-ea475aeebf64</td>\n",
       "      <td>transaction_6464</td>\n",
       "      <td>9114</td>\n",
       "      <td>2010-11-06</td>\n",
       "    </tr>\n",
       "    <tr>\n",
       "      <th>8</th>\n",
       "      <td>064127f3-f625-4272-8c83-65d6e271d57c</td>\n",
       "      <td>transaction_4840</td>\n",
       "      <td>9102</td>\n",
       "      <td>2010-11-29</td>\n",
       "    </tr>\n",
       "    <tr>\n",
       "      <th>9</th>\n",
       "      <td>1bd4d419-0273-4e37-a289-a83962d5df6c</td>\n",
       "      <td>transaction_5362</td>\n",
       "      <td>7369</td>\n",
       "      <td>2010-11-23</td>\n",
       "    </tr>\n",
       "    <tr>\n",
       "      <th>10</th>\n",
       "      <td>df7960e9-a5f9-42ed-9b4b-5c0ee8c35676</td>\n",
       "      <td>transaction_5880</td>\n",
       "      <td>6848</td>\n",
       "      <td>2010-11-27</td>\n",
       "    </tr>\n",
       "    <tr>\n",
       "      <th>11</th>\n",
       "      <td>cb9aafda-3ed3-4897-ab85-c917f3d3cd0b</td>\n",
       "      <td>transaction_5186</td>\n",
       "      <td>6801</td>\n",
       "      <td>2010-11-16</td>\n",
       "    </tr>\n",
       "    <tr>\n",
       "      <th>12</th>\n",
       "      <td>deb465a8-9b8f-49b8-a2de-72e621a0aa56</td>\n",
       "      <td>transaction_4577</td>\n",
       "      <td>5405</td>\n",
       "      <td>2010-11-13</td>\n",
       "    </tr>\n",
       "    <tr>\n",
       "      <th>13</th>\n",
       "      <td>81ad39ff-b394-4e9f-849e-a00c4a39c92e</td>\n",
       "      <td>transaction_4656</td>\n",
       "      <td>4368</td>\n",
       "      <td>2010-11-25</td>\n",
       "    </tr>\n",
       "    <tr>\n",
       "      <th>14</th>\n",
       "      <td>ebce2a5d-7e1e-475b-8747-a1e62ae83574</td>\n",
       "      <td>transaction_5642</td>\n",
       "      <td>4011</td>\n",
       "      <td>2010-11-01</td>\n",
       "    </tr>\n",
       "    <tr>\n",
       "      <th>15</th>\n",
       "      <td>69704567-3ce3-4700-8c0c-358d3ed7b425</td>\n",
       "      <td>transaction_4538</td>\n",
       "      <td>3961</td>\n",
       "      <td>2010-11-11</td>\n",
       "    </tr>\n",
       "    <tr>\n",
       "      <th>16</th>\n",
       "      <td>f9f33f6c-5aeb-4302-b71f-e24d3cede51e</td>\n",
       "      <td>transaction_5929</td>\n",
       "      <td>3635</td>\n",
       "      <td>2010-11-19</td>\n",
       "    </tr>\n",
       "    <tr>\n",
       "      <th>17</th>\n",
       "      <td>b037cf76-aed4-4b21-9aed-ffb5778ab516</td>\n",
       "      <td>transaction_4607</td>\n",
       "      <td>3624</td>\n",
       "      <td>2010-10-30</td>\n",
       "    </tr>\n",
       "    <tr>\n",
       "      <th>18</th>\n",
       "      <td>ba2264ea-ebd7-40f8-aa85-d9fa25591367</td>\n",
       "      <td>transaction_6801</td>\n",
       "      <td>3544</td>\n",
       "      <td>2010-11-12</td>\n",
       "    </tr>\n",
       "    <tr>\n",
       "      <th>19</th>\n",
       "      <td>72d4a68d-b45e-4eb7-8f9c-b68f891aa27a</td>\n",
       "      <td>transaction_4531</td>\n",
       "      <td>3295</td>\n",
       "      <td>2010-11-18</td>\n",
       "    </tr>\n",
       "    <tr>\n",
       "      <th>20</th>\n",
       "      <td>c3d604f0-e1e5-4be2-a653-456f96215083</td>\n",
       "      <td>transaction_5169</td>\n",
       "      <td>2910</td>\n",
       "      <td>2010-11-24</td>\n",
       "    </tr>\n",
       "    <tr>\n",
       "      <th>21</th>\n",
       "      <td>b47ebac1-0055-4d6f-90d3-abc2cb6819e6</td>\n",
       "      <td>transaction_4654</td>\n",
       "      <td>2190</td>\n",
       "      <td>2010-11-05</td>\n",
       "    </tr>\n",
       "    <tr>\n",
       "      <th>22</th>\n",
       "      <td>f60a2519-bc91-4164-aebe-2d7f57347ce0</td>\n",
       "      <td>transaction_4724</td>\n",
       "      <td>2174</td>\n",
       "      <td>2010-11-22</td>\n",
       "    </tr>\n",
       "    <tr>\n",
       "      <th>23</th>\n",
       "      <td>bc50c7f9-2ab6-4414-90c3-8d117feca997</td>\n",
       "      <td>transaction_4653</td>\n",
       "      <td>1722</td>\n",
       "      <td>2010-10-31</td>\n",
       "    </tr>\n",
       "    <tr>\n",
       "      <th>24</th>\n",
       "      <td>eb6f9626-a3e2-4cba-b21f-73697cb1d2d4</td>\n",
       "      <td>transaction_6019</td>\n",
       "      <td>1698</td>\n",
       "      <td>2010-11-14</td>\n",
       "    </tr>\n",
       "    <tr>\n",
       "      <th>25</th>\n",
       "      <td>3ef8461d-7da9-4c65-940f-c32cefcc7edc</td>\n",
       "      <td>transaction_5195</td>\n",
       "      <td>1414</td>\n",
       "      <td>2010-11-15</td>\n",
       "    </tr>\n",
       "    <tr>\n",
       "      <th>26</th>\n",
       "      <td>e3bb6e56-b307-417c-953d-8f03486d6982</td>\n",
       "      <td>transaction_4594</td>\n",
       "      <td>1017</td>\n",
       "      <td>2010-11-07</td>\n",
       "    </tr>\n",
       "    <tr>\n",
       "      <th>27</th>\n",
       "      <td>b1781566-5b9f-4782-a5f3-a3ce2b4b6839</td>\n",
       "      <td>transaction_4707</td>\n",
       "      <td>603</td>\n",
       "      <td>2010-11-28</td>\n",
       "    </tr>\n",
       "    <tr>\n",
       "      <th>28</th>\n",
       "      <td>d0c10c95-413c-4299-b1ac-35aacc22412d</td>\n",
       "      <td>transaction_4579</td>\n",
       "      <td>576</td>\n",
       "      <td>2010-11-26</td>\n",
       "    </tr>\n",
       "    <tr>\n",
       "      <th>29</th>\n",
       "      <td>fd48351b-58fd-4ed4-9be6-17af83a701b5</td>\n",
       "      <td>transaction_5176</td>\n",
       "      <td>565</td>\n",
       "      <td>2010-11-08</td>\n",
       "    </tr>\n",
       "    <tr>\n",
       "      <th>30</th>\n",
       "      <td>b78a8add-a972-4f90-81b5-42a6a96f01d1</td>\n",
       "      <td>transaction_5662</td>\n",
       "      <td>521</td>\n",
       "      <td>2010-11-10</td>\n",
       "    </tr>\n",
       "    <tr>\n",
       "      <th>31</th>\n",
       "      <td>eeeeafa1-aced-430a-8d21-c105326aa2fe</td>\n",
       "      <td>transaction_5933</td>\n",
       "      <td>513</td>\n",
       "      <td>2010-11-09</td>\n",
       "    </tr>\n",
       "  </tbody>\n",
       "</table>\n",
       "</div>"
      ],
      "text/plain": [
       "                                 user_id    transaction_id  total_amount   \n",
       "0   45033378-0d23-4bea-9142-64dd6a51b51f  transaction_4719         28709  \\\n",
       "1   a5320beb-c5c9-4e5e-b207-3164282a3b7a  transaction_4614         18524   \n",
       "2   c9304a7f-6dea-40c7-ba35-85afa2c35185  transaction_5208         17400   \n",
       "3   00d6e3e9-ec1c-4f3c-9d6e-48d0456d4542  transaction_4743         16396   \n",
       "4   e4acab7d-b7f4-4018-ac24-b523bf60d8d3  transaction_5291         15998   \n",
       "5   c7329e7c-ed10-4314-87c1-03a4a369829b  transaction_4894         14810   \n",
       "6   7eac59b2-2f8f-4e3b-9f14-fdb474950688  transaction_4712          9384   \n",
       "7   18fae5bc-59cd-4e9c-9650-ea475aeebf64  transaction_6464          9114   \n",
       "8   064127f3-f625-4272-8c83-65d6e271d57c  transaction_4840          9102   \n",
       "9   1bd4d419-0273-4e37-a289-a83962d5df6c  transaction_5362          7369   \n",
       "10  df7960e9-a5f9-42ed-9b4b-5c0ee8c35676  transaction_5880          6848   \n",
       "11  cb9aafda-3ed3-4897-ab85-c917f3d3cd0b  transaction_5186          6801   \n",
       "12  deb465a8-9b8f-49b8-a2de-72e621a0aa56  transaction_4577          5405   \n",
       "13  81ad39ff-b394-4e9f-849e-a00c4a39c92e  transaction_4656          4368   \n",
       "14  ebce2a5d-7e1e-475b-8747-a1e62ae83574  transaction_5642          4011   \n",
       "15  69704567-3ce3-4700-8c0c-358d3ed7b425  transaction_4538          3961   \n",
       "16  f9f33f6c-5aeb-4302-b71f-e24d3cede51e  transaction_5929          3635   \n",
       "17  b037cf76-aed4-4b21-9aed-ffb5778ab516  transaction_4607          3624   \n",
       "18  ba2264ea-ebd7-40f8-aa85-d9fa25591367  transaction_6801          3544   \n",
       "19  72d4a68d-b45e-4eb7-8f9c-b68f891aa27a  transaction_4531          3295   \n",
       "20  c3d604f0-e1e5-4be2-a653-456f96215083  transaction_5169          2910   \n",
       "21  b47ebac1-0055-4d6f-90d3-abc2cb6819e6  transaction_4654          2190   \n",
       "22  f60a2519-bc91-4164-aebe-2d7f57347ce0  transaction_4724          2174   \n",
       "23  bc50c7f9-2ab6-4414-90c3-8d117feca997  transaction_4653          1722   \n",
       "24  eb6f9626-a3e2-4cba-b21f-73697cb1d2d4  transaction_6019          1698   \n",
       "25  3ef8461d-7da9-4c65-940f-c32cefcc7edc  transaction_5195          1414   \n",
       "26  e3bb6e56-b307-417c-953d-8f03486d6982  transaction_4594          1017   \n",
       "27  b1781566-5b9f-4782-a5f3-a3ce2b4b6839  transaction_4707           603   \n",
       "28  d0c10c95-413c-4299-b1ac-35aacc22412d  transaction_4579           576   \n",
       "29  fd48351b-58fd-4ed4-9be6-17af83a701b5  transaction_5176           565   \n",
       "30  b78a8add-a972-4f90-81b5-42a6a96f01d1  transaction_5662           521   \n",
       "31  eeeeafa1-aced-430a-8d21-c105326aa2fe  transaction_5933           513   \n",
       "\n",
       "   date_joined  \n",
       "0   2010-11-17  \n",
       "1   2010-11-02  \n",
       "2   2010-11-04  \n",
       "3   2010-11-21  \n",
       "4   2010-11-30  \n",
       "5   2010-11-20  \n",
       "6   2010-11-03  \n",
       "7   2010-11-06  \n",
       "8   2010-11-29  \n",
       "9   2010-11-23  \n",
       "10  2010-11-27  \n",
       "11  2010-11-16  \n",
       "12  2010-11-13  \n",
       "13  2010-11-25  \n",
       "14  2010-11-01  \n",
       "15  2010-11-11  \n",
       "16  2010-11-19  \n",
       "17  2010-10-30  \n",
       "18  2010-11-12  \n",
       "19  2010-11-18  \n",
       "20  2010-11-24  \n",
       "21  2010-11-05  \n",
       "22  2010-11-22  \n",
       "23  2010-10-31  \n",
       "24  2010-11-14  \n",
       "25  2010-11-15  \n",
       "26  2010-11-07  \n",
       "27  2010-11-28  \n",
       "28  2010-11-26  \n",
       "29  2010-11-08  \n",
       "30  2010-11-10  \n",
       "31  2010-11-09  "
      ]
     },
     "execution_count": 13,
     "metadata": {},
     "output_type": "execute_result"
    }
   ],
   "source": [
    "aggregation_of_transactions"
   ]
  },
  {
   "cell_type": "markdown",
   "metadata": {},
   "source": [
    "# Merge the `device` table with the `users` table"
   ]
  },
  {
   "cell_type": "code",
   "execution_count": 14,
   "metadata": {
    "executionInfo": {
     "elapsed": 1583,
     "status": "ok",
     "timestamp": 1613413773755,
     "user": {
      "displayName": "Sarah Haq",
      "photoUrl": "https://lh3.googleusercontent.com/a-/AOh14Gh7vs3P5_F3LYi7bEV8r1vbltDxEgpoYXmxHgxGBw=s64",
      "userId": "16294508270436203551"
     },
     "user_tz": -60
    },
    "id": "KeEXnDQb_xQP"
   },
   "outputs": [],
   "source": [
    "# Do a left join, as all users in the users table are of interest.\n",
    "query = '''\n",
    "        SELECT users.*, device.device\n",
    "        FROM users\n",
    "        LEFT JOIN device\n",
    "        ON users.user_id = device.user_id\n",
    "        '''\n",
    "users_w_device = pd.read_sql(query, conn)\n"
   ]
  },
  {
   "cell_type": "code",
   "execution_count": 23,
   "metadata": {
    "colab": {
     "base_uri": "https://localhost:8080/",
     "height": 315
    },
    "executionInfo": {
     "elapsed": 631,
     "status": "ok",
     "timestamp": 1613413783313,
     "user": {
      "displayName": "Sarah Haq",
      "photoUrl": "https://lh3.googleusercontent.com/a-/AOh14Gh7vs3P5_F3LYi7bEV8r1vbltDxEgpoYXmxHgxGBw=s64",
      "userId": "16294508270436203551"
     },
     "user_tz": -60
    },
    "id": "j8_-dquFEI0n",
    "outputId": "91d7a4a8-2c63-41e5-ab5b-44d561244308"
   },
   "outputs": [
    {
     "data": {
      "text/html": [
       "<div>\n",
       "<style scoped>\n",
       "    .dataframe tbody tr th:only-of-type {\n",
       "        vertical-align: middle;\n",
       "    }\n",
       "\n",
       "    .dataframe tbody tr th {\n",
       "        vertical-align: top;\n",
       "    }\n",
       "\n",
       "    .dataframe thead th {\n",
       "        text-align: right;\n",
       "    }\n",
       "</style>\n",
       "<table border=\"1\" class=\"dataframe\">\n",
       "  <thead>\n",
       "    <tr style=\"text-align: right;\">\n",
       "      <th></th>\n",
       "      <th>user_id</th>\n",
       "      <th>age</th>\n",
       "      <th>job</th>\n",
       "      <th>marital</th>\n",
       "      <th>education</th>\n",
       "      <th>default</th>\n",
       "      <th>housing</th>\n",
       "      <th>loan</th>\n",
       "      <th>contact</th>\n",
       "      <th>duration</th>\n",
       "      <th>campaign</th>\n",
       "      <th>pdays</th>\n",
       "      <th>previous</th>\n",
       "      <th>poutcome</th>\n",
       "      <th>term_deposit</th>\n",
       "      <th>date_joined</th>\n",
       "      <th>device</th>\n",
       "    </tr>\n",
       "  </thead>\n",
       "  <tbody>\n",
       "    <tr>\n",
       "      <th>0</th>\n",
       "      <td>9231c446-cb16-4b2b-a7f7-ddfc8b25aaf6</td>\n",
       "      <td>58</td>\n",
       "      <td>management</td>\n",
       "      <td>married</td>\n",
       "      <td>tertiary</td>\n",
       "      <td>no</td>\n",
       "      <td>yes</td>\n",
       "      <td>no</td>\n",
       "      <td>None</td>\n",
       "      <td>261</td>\n",
       "      <td>1</td>\n",
       "      <td>-1</td>\n",
       "      <td>0</td>\n",
       "      <td>None</td>\n",
       "      <td>no</td>\n",
       "      <td>1998-08-23</td>\n",
       "      <td>mobile</td>\n",
       "    </tr>\n",
       "    <tr>\n",
       "      <th>1</th>\n",
       "      <td>bb92765a-08de-4963-b432-496524b39157</td>\n",
       "      <td>44</td>\n",
       "      <td>technician</td>\n",
       "      <td>single</td>\n",
       "      <td>secondary</td>\n",
       "      <td>no</td>\n",
       "      <td>yes</td>\n",
       "      <td>no</td>\n",
       "      <td>None</td>\n",
       "      <td>151</td>\n",
       "      <td>1</td>\n",
       "      <td>-1</td>\n",
       "      <td>0</td>\n",
       "      <td>None</td>\n",
       "      <td>no</td>\n",
       "      <td>2008-07-15</td>\n",
       "      <td>desktop</td>\n",
       "    </tr>\n",
       "    <tr>\n",
       "      <th>2</th>\n",
       "      <td>573de577-49ef-42b9-83da-d3cfb817b5c1</td>\n",
       "      <td>33</td>\n",
       "      <td>entrepreneur</td>\n",
       "      <td>married</td>\n",
       "      <td>secondary</td>\n",
       "      <td>no</td>\n",
       "      <td>yes</td>\n",
       "      <td>yes</td>\n",
       "      <td>None</td>\n",
       "      <td>76</td>\n",
       "      <td>1</td>\n",
       "      <td>-1</td>\n",
       "      <td>0</td>\n",
       "      <td>None</td>\n",
       "      <td>no</td>\n",
       "      <td>2002-06-04</td>\n",
       "      <td>mobile</td>\n",
       "    </tr>\n",
       "    <tr>\n",
       "      <th>3</th>\n",
       "      <td>d6b66b9d-7c8f-4257-a682-e136f640b7e3</td>\n",
       "      <td>47</td>\n",
       "      <td>blue-collar</td>\n",
       "      <td>married</td>\n",
       "      <td>None</td>\n",
       "      <td>no</td>\n",
       "      <td>yes</td>\n",
       "      <td>no</td>\n",
       "      <td>None</td>\n",
       "      <td>92</td>\n",
       "      <td>1</td>\n",
       "      <td>-1</td>\n",
       "      <td>0</td>\n",
       "      <td>None</td>\n",
       "      <td>no</td>\n",
       "      <td>1995-06-29</td>\n",
       "      <td>tablet</td>\n",
       "    </tr>\n",
       "    <tr>\n",
       "      <th>4</th>\n",
       "      <td>fade0b20-7594-4d9a-84cd-c02f79b1b526</td>\n",
       "      <td>33</td>\n",
       "      <td>None</td>\n",
       "      <td>single</td>\n",
       "      <td>None</td>\n",
       "      <td>no</td>\n",
       "      <td>no</td>\n",
       "      <td>no</td>\n",
       "      <td>None</td>\n",
       "      <td>198</td>\n",
       "      <td>1</td>\n",
       "      <td>-1</td>\n",
       "      <td>0</td>\n",
       "      <td>None</td>\n",
       "      <td>no</td>\n",
       "      <td>1995-08-01</td>\n",
       "      <td>mobile</td>\n",
       "    </tr>\n",
       "    <tr>\n",
       "      <th>5</th>\n",
       "      <td>c6aee0d4-2a86-4bac-827b-c6d33b5933e6</td>\n",
       "      <td>35</td>\n",
       "      <td>management</td>\n",
       "      <td>married</td>\n",
       "      <td>tertiary</td>\n",
       "      <td>no</td>\n",
       "      <td>yes</td>\n",
       "      <td>no</td>\n",
       "      <td>None</td>\n",
       "      <td>139</td>\n",
       "      <td>1</td>\n",
       "      <td>-1</td>\n",
       "      <td>0</td>\n",
       "      <td>None</td>\n",
       "      <td>no</td>\n",
       "      <td>2000-06-21</td>\n",
       "      <td>desktop</td>\n",
       "    </tr>\n",
       "    <tr>\n",
       "      <th>6</th>\n",
       "      <td>1fa7d4fb-3e4a-463a-ba4b-08f824945e45</td>\n",
       "      <td>28</td>\n",
       "      <td>management</td>\n",
       "      <td>single</td>\n",
       "      <td>tertiary</td>\n",
       "      <td>no</td>\n",
       "      <td>yes</td>\n",
       "      <td>yes</td>\n",
       "      <td>None</td>\n",
       "      <td>217</td>\n",
       "      <td>1</td>\n",
       "      <td>-1</td>\n",
       "      <td>0</td>\n",
       "      <td>None</td>\n",
       "      <td>no</td>\n",
       "      <td>1996-02-22</td>\n",
       "      <td>mobile</td>\n",
       "    </tr>\n",
       "    <tr>\n",
       "      <th>7</th>\n",
       "      <td>d20059f3-84b7-4ec5-b933-8bca3a3414af</td>\n",
       "      <td>42</td>\n",
       "      <td>entrepreneur</td>\n",
       "      <td>divorced</td>\n",
       "      <td>tertiary</td>\n",
       "      <td>yes</td>\n",
       "      <td>yes</td>\n",
       "      <td>no</td>\n",
       "      <td>None</td>\n",
       "      <td>380</td>\n",
       "      <td>1</td>\n",
       "      <td>-1</td>\n",
       "      <td>0</td>\n",
       "      <td>None</td>\n",
       "      <td>no</td>\n",
       "      <td>1991-12-09</td>\n",
       "      <td>mobile</td>\n",
       "    </tr>\n",
       "    <tr>\n",
       "      <th>8</th>\n",
       "      <td>0cedabc3-6141-43c6-988c-9ec2f14a8eb9</td>\n",
       "      <td>58</td>\n",
       "      <td>retired</td>\n",
       "      <td>married</td>\n",
       "      <td>primary</td>\n",
       "      <td>no</td>\n",
       "      <td>yes</td>\n",
       "      <td>no</td>\n",
       "      <td>None</td>\n",
       "      <td>50</td>\n",
       "      <td>1</td>\n",
       "      <td>-1</td>\n",
       "      <td>0</td>\n",
       "      <td>None</td>\n",
       "      <td>no</td>\n",
       "      <td>1999-08-20</td>\n",
       "      <td>desktop</td>\n",
       "    </tr>\n",
       "    <tr>\n",
       "      <th>9</th>\n",
       "      <td>bc3d8e25-4619-4395-9aae-7d443f424802</td>\n",
       "      <td>43</td>\n",
       "      <td>technician</td>\n",
       "      <td>single</td>\n",
       "      <td>secondary</td>\n",
       "      <td>no</td>\n",
       "      <td>yes</td>\n",
       "      <td>no</td>\n",
       "      <td>None</td>\n",
       "      <td>55</td>\n",
       "      <td>1</td>\n",
       "      <td>-1</td>\n",
       "      <td>0</td>\n",
       "      <td>None</td>\n",
       "      <td>no</td>\n",
       "      <td>1991-09-16</td>\n",
       "      <td>mobile</td>\n",
       "    </tr>\n",
       "  </tbody>\n",
       "</table>\n",
       "</div>"
      ],
      "text/plain": [
       "                                user_id  age           job   marital   \n",
       "0  9231c446-cb16-4b2b-a7f7-ddfc8b25aaf6   58    management   married  \\\n",
       "1  bb92765a-08de-4963-b432-496524b39157   44    technician    single   \n",
       "2  573de577-49ef-42b9-83da-d3cfb817b5c1   33  entrepreneur   married   \n",
       "3  d6b66b9d-7c8f-4257-a682-e136f640b7e3   47   blue-collar   married   \n",
       "4  fade0b20-7594-4d9a-84cd-c02f79b1b526   33          None    single   \n",
       "5  c6aee0d4-2a86-4bac-827b-c6d33b5933e6   35    management   married   \n",
       "6  1fa7d4fb-3e4a-463a-ba4b-08f824945e45   28    management    single   \n",
       "7  d20059f3-84b7-4ec5-b933-8bca3a3414af   42  entrepreneur  divorced   \n",
       "8  0cedabc3-6141-43c6-988c-9ec2f14a8eb9   58       retired   married   \n",
       "9  bc3d8e25-4619-4395-9aae-7d443f424802   43    technician    single   \n",
       "\n",
       "   education default housing loan contact  duration  campaign  pdays   \n",
       "0   tertiary      no     yes   no    None       261         1     -1  \\\n",
       "1  secondary      no     yes   no    None       151         1     -1   \n",
       "2  secondary      no     yes  yes    None        76         1     -1   \n",
       "3       None      no     yes   no    None        92         1     -1   \n",
       "4       None      no      no   no    None       198         1     -1   \n",
       "5   tertiary      no     yes   no    None       139         1     -1   \n",
       "6   tertiary      no     yes  yes    None       217         1     -1   \n",
       "7   tertiary     yes     yes   no    None       380         1     -1   \n",
       "8    primary      no     yes   no    None        50         1     -1   \n",
       "9  secondary      no     yes   no    None        55         1     -1   \n",
       "\n",
       "   previous poutcome term_deposit date_joined   device  \n",
       "0         0     None           no  1998-08-23   mobile  \n",
       "1         0     None           no  2008-07-15  desktop  \n",
       "2         0     None           no  2002-06-04   mobile  \n",
       "3         0     None           no  1995-06-29   tablet  \n",
       "4         0     None           no  1995-08-01   mobile  \n",
       "5         0     None           no  2000-06-21  desktop  \n",
       "6         0     None           no  1996-02-22   mobile  \n",
       "7         0     None           no  1991-12-09   mobile  \n",
       "8         0     None           no  1999-08-20  desktop  \n",
       "9         0     None           no  1991-09-16   mobile  "
      ]
     },
     "execution_count": 23,
     "metadata": {},
     "output_type": "execute_result"
    }
   ],
   "source": [
    "users_w_device.head(10)"
   ]
  },
  {
   "cell_type": "code",
   "execution_count": 24,
   "metadata": {
    "executionInfo": {
     "elapsed": 1251,
     "status": "aborted",
     "timestamp": 1613412287541,
     "user": {
      "displayName": "Sarah Haq",
      "photoUrl": "https://lh3.googleusercontent.com/a-/AOh14Gh7vs3P5_F3LYi7bEV8r1vbltDxEgpoYXmxHgxGBw=s64",
      "userId": "16294508270436203551"
     },
     "user_tz": -60
    },
    "id": "mGmCTkzoENeo"
   },
   "outputs": [
    {
     "data": {
      "text/plain": [
       "(45216, 17)"
      ]
     },
     "execution_count": 24,
     "metadata": {},
     "output_type": "execute_result"
    }
   ],
   "source": [
    "users_w_device.shape"
   ]
  },
  {
   "cell_type": "markdown",
   "metadata": {},
   "source": [
    "# Close the database connection"
   ]
  },
  {
   "cell_type": "code",
   "execution_count": 16,
   "metadata": {},
   "outputs": [],
   "source": [
    "conn.close()"
   ]
  },
  {
   "cell_type": "markdown",
   "metadata": {},
   "source": [
    "# Merge `users_w_device` with `transactions_agg`"
   ]
  },
  {
   "cell_type": "code",
   "execution_count": 32,
   "metadata": {
    "executionInfo": {
     "elapsed": 1245,
     "status": "aborted",
     "timestamp": 1613412287542,
     "user": {
      "displayName": "Sarah Haq",
      "photoUrl": "https://lh3.googleusercontent.com/a-/AOh14Gh7vs3P5_F3LYi7bEV8r1vbltDxEgpoYXmxHgxGBw=s64",
      "userId": "16294508270436203551"
     },
     "user_tz": -60
    },
    "id": "rHpk82ttnYgT"
   },
   "outputs": [
    {
     "data": {
      "text/html": [
       "<div>\n",
       "<style scoped>\n",
       "    .dataframe tbody tr th:only-of-type {\n",
       "        vertical-align: middle;\n",
       "    }\n",
       "\n",
       "    .dataframe tbody tr th {\n",
       "        vertical-align: top;\n",
       "    }\n",
       "\n",
       "    .dataframe thead th {\n",
       "        text-align: right;\n",
       "    }\n",
       "</style>\n",
       "<table border=\"1\" class=\"dataframe\">\n",
       "  <thead>\n",
       "    <tr style=\"text-align: right;\">\n",
       "      <th></th>\n",
       "      <th>user_id</th>\n",
       "      <th>transaction_id</th>\n",
       "      <th>amount_usd</th>\n",
       "      <th>date_joined_x</th>\n",
       "      <th>age</th>\n",
       "      <th>job</th>\n",
       "      <th>marital</th>\n",
       "      <th>education</th>\n",
       "      <th>default</th>\n",
       "      <th>housing</th>\n",
       "      <th>loan</th>\n",
       "      <th>contact</th>\n",
       "      <th>duration</th>\n",
       "      <th>campaign</th>\n",
       "      <th>pdays</th>\n",
       "      <th>previous</th>\n",
       "      <th>poutcome</th>\n",
       "      <th>term_deposit</th>\n",
       "      <th>date_joined_y</th>\n",
       "      <th>device</th>\n",
       "    </tr>\n",
       "  </thead>\n",
       "  <tbody>\n",
       "    <tr>\n",
       "      <th>0</th>\n",
       "      <td>9231c446-cb16-4b2b-a7f7-ddfc8b25aaf6</td>\n",
       "      <td>NaN</td>\n",
       "      <td>NaN</td>\n",
       "      <td>NaN</td>\n",
       "      <td>58</td>\n",
       "      <td>management</td>\n",
       "      <td>married</td>\n",
       "      <td>tertiary</td>\n",
       "      <td>no</td>\n",
       "      <td>yes</td>\n",
       "      <td>no</td>\n",
       "      <td>None</td>\n",
       "      <td>261</td>\n",
       "      <td>1</td>\n",
       "      <td>-1</td>\n",
       "      <td>0</td>\n",
       "      <td>None</td>\n",
       "      <td>no</td>\n",
       "      <td>1998-08-23</td>\n",
       "      <td>mobile</td>\n",
       "    </tr>\n",
       "    <tr>\n",
       "      <th>1</th>\n",
       "      <td>bb92765a-08de-4963-b432-496524b39157</td>\n",
       "      <td>NaN</td>\n",
       "      <td>NaN</td>\n",
       "      <td>NaN</td>\n",
       "      <td>44</td>\n",
       "      <td>technician</td>\n",
       "      <td>single</td>\n",
       "      <td>secondary</td>\n",
       "      <td>no</td>\n",
       "      <td>yes</td>\n",
       "      <td>no</td>\n",
       "      <td>None</td>\n",
       "      <td>151</td>\n",
       "      <td>1</td>\n",
       "      <td>-1</td>\n",
       "      <td>0</td>\n",
       "      <td>None</td>\n",
       "      <td>no</td>\n",
       "      <td>2008-07-15</td>\n",
       "      <td>desktop</td>\n",
       "    </tr>\n",
       "    <tr>\n",
       "      <th>2</th>\n",
       "      <td>573de577-49ef-42b9-83da-d3cfb817b5c1</td>\n",
       "      <td>NaN</td>\n",
       "      <td>NaN</td>\n",
       "      <td>NaN</td>\n",
       "      <td>33</td>\n",
       "      <td>entrepreneur</td>\n",
       "      <td>married</td>\n",
       "      <td>secondary</td>\n",
       "      <td>no</td>\n",
       "      <td>yes</td>\n",
       "      <td>yes</td>\n",
       "      <td>None</td>\n",
       "      <td>76</td>\n",
       "      <td>1</td>\n",
       "      <td>-1</td>\n",
       "      <td>0</td>\n",
       "      <td>None</td>\n",
       "      <td>no</td>\n",
       "      <td>2002-06-04</td>\n",
       "      <td>mobile</td>\n",
       "    </tr>\n",
       "    <tr>\n",
       "      <th>3</th>\n",
       "      <td>d6b66b9d-7c8f-4257-a682-e136f640b7e3</td>\n",
       "      <td>NaN</td>\n",
       "      <td>NaN</td>\n",
       "      <td>NaN</td>\n",
       "      <td>47</td>\n",
       "      <td>blue-collar</td>\n",
       "      <td>married</td>\n",
       "      <td>None</td>\n",
       "      <td>no</td>\n",
       "      <td>yes</td>\n",
       "      <td>no</td>\n",
       "      <td>None</td>\n",
       "      <td>92</td>\n",
       "      <td>1</td>\n",
       "      <td>-1</td>\n",
       "      <td>0</td>\n",
       "      <td>None</td>\n",
       "      <td>no</td>\n",
       "      <td>1995-06-29</td>\n",
       "      <td>tablet</td>\n",
       "    </tr>\n",
       "    <tr>\n",
       "      <th>4</th>\n",
       "      <td>fade0b20-7594-4d9a-84cd-c02f79b1b526</td>\n",
       "      <td>NaN</td>\n",
       "      <td>NaN</td>\n",
       "      <td>NaN</td>\n",
       "      <td>33</td>\n",
       "      <td>None</td>\n",
       "      <td>single</td>\n",
       "      <td>None</td>\n",
       "      <td>no</td>\n",
       "      <td>no</td>\n",
       "      <td>no</td>\n",
       "      <td>None</td>\n",
       "      <td>198</td>\n",
       "      <td>1</td>\n",
       "      <td>-1</td>\n",
       "      <td>0</td>\n",
       "      <td>None</td>\n",
       "      <td>no</td>\n",
       "      <td>1995-08-01</td>\n",
       "      <td>mobile</td>\n",
       "    </tr>\n",
       "  </tbody>\n",
       "</table>\n",
       "</div>"
      ],
      "text/plain": [
       "                                user_id transaction_id  amount_usd   \n",
       "0  9231c446-cb16-4b2b-a7f7-ddfc8b25aaf6            NaN         NaN  \\\n",
       "1  bb92765a-08de-4963-b432-496524b39157            NaN         NaN   \n",
       "2  573de577-49ef-42b9-83da-d3cfb817b5c1            NaN         NaN   \n",
       "3  d6b66b9d-7c8f-4257-a682-e136f640b7e3            NaN         NaN   \n",
       "4  fade0b20-7594-4d9a-84cd-c02f79b1b526            NaN         NaN   \n",
       "\n",
       "  date_joined_x  age           job  marital  education default housing loan   \n",
       "0           NaN   58    management  married   tertiary      no     yes   no  \\\n",
       "1           NaN   44    technician   single  secondary      no     yes   no   \n",
       "2           NaN   33  entrepreneur  married  secondary      no     yes  yes   \n",
       "3           NaN   47   blue-collar  married       None      no     yes   no   \n",
       "4           NaN   33          None   single       None      no      no   no   \n",
       "\n",
       "  contact  duration  campaign  pdays  previous poutcome term_deposit   \n",
       "0    None       261         1     -1         0     None           no  \\\n",
       "1    None       151         1     -1         0     None           no   \n",
       "2    None        76         1     -1         0     None           no   \n",
       "3    None        92         1     -1         0     None           no   \n",
       "4    None       198         1     -1         0     None           no   \n",
       "\n",
       "  date_joined_y   device  \n",
       "0    1998-08-23   mobile  \n",
       "1    2008-07-15  desktop  \n",
       "2    2002-06-04   mobile  \n",
       "3    1995-06-29   tablet  \n",
       "4    1995-08-01   mobile  "
      ]
     },
     "execution_count": 32,
     "metadata": {},
     "output_type": "execute_result"
    }
   ],
   "source": [
    "# Do a right join so users won't be lost.\n",
    "users_w_devices_and_transactions = pd.merge(transactions, users_w_device, on=\"user_id\", how=\"right\")\n",
    "\n",
    "users_w_devices_and_transactions.head()"
   ]
  },
  {
   "cell_type": "code",
   "execution_count": 43,
   "metadata": {
    "executionInfo": {
     "elapsed": 1239,
     "status": "aborted",
     "timestamp": 1613412287543,
     "user": {
      "displayName": "Sarah Haq",
      "photoUrl": "https://lh3.googleusercontent.com/a-/AOh14Gh7vs3P5_F3LYi7bEV8r1vbltDxEgpoYXmxHgxGBw=s64",
      "userId": "16294508270436203551"
     },
     "user_tz": -60
    },
    "id": "xz-NCHV4oKi7"
   },
   "outputs": [
    {
     "data": {
      "text/plain": [
       "(45216, 20)"
      ]
     },
     "execution_count": 43,
     "metadata": {},
     "output_type": "execute_result"
    }
   ],
   "source": [
    "# Make sure number of rows is equal to users_w_devices table.\n",
    "users_w_devices_and_transactions.shape\n"
   ]
  },
  {
   "cell_type": "markdown",
   "metadata": {},
   "source": [
    "# Identify data where `age` is greater than 150"
   ]
  },
  {
   "cell_type": "code",
   "execution_count": 41,
   "metadata": {
    "colab": {
     "base_uri": "https://localhost:8080/",
     "height": 233
    },
    "executionInfo": {
     "elapsed": 4196,
     "status": "ok",
     "timestamp": 1613256969740,
     "user": {
      "displayName": "Sarah Haq",
      "photoUrl": "https://lh3.googleusercontent.com/a-/AOh14Gh7vs3P5_F3LYi7bEV8r1vbltDxEgpoYXmxHgxGBw=s64",
      "userId": "16294508270436203551"
     },
     "user_tz": -60
    },
    "id": "Ju_Op9AoGaLO",
    "outputId": "f5dcfffc-cb34-44c0-8995-3b1c32aefb4e"
   },
   "outputs": [
    {
     "data": {
      "text/html": [
       "<div>\n",
       "<style scoped>\n",
       "    .dataframe tbody tr th:only-of-type {\n",
       "        vertical-align: middle;\n",
       "    }\n",
       "\n",
       "    .dataframe tbody tr th {\n",
       "        vertical-align: top;\n",
       "    }\n",
       "\n",
       "    .dataframe thead th {\n",
       "        text-align: right;\n",
       "    }\n",
       "</style>\n",
       "<table border=\"1\" class=\"dataframe\">\n",
       "  <thead>\n",
       "    <tr style=\"text-align: right;\">\n",
       "      <th></th>\n",
       "      <th>user_id</th>\n",
       "      <th>transaction_id</th>\n",
       "      <th>amount_usd</th>\n",
       "      <th>date_joined_x</th>\n",
       "      <th>age</th>\n",
       "      <th>job</th>\n",
       "      <th>marital</th>\n",
       "      <th>education</th>\n",
       "      <th>default</th>\n",
       "      <th>housing</th>\n",
       "      <th>loan</th>\n",
       "      <th>contact</th>\n",
       "      <th>duration</th>\n",
       "      <th>campaign</th>\n",
       "      <th>pdays</th>\n",
       "      <th>previous</th>\n",
       "      <th>poutcome</th>\n",
       "      <th>term_deposit</th>\n",
       "      <th>date_joined_y</th>\n",
       "      <th>device</th>\n",
       "    </tr>\n",
       "  </thead>\n",
       "  <tbody>\n",
       "    <tr>\n",
       "      <th>7228</th>\n",
       "      <td>44fefdad-7045-4be5-890e-12e84ae6fdc9</td>\n",
       "      <td>NaN</td>\n",
       "      <td>NaN</td>\n",
       "      <td>NaN</td>\n",
       "      <td>178</td>\n",
       "      <td>blue-collar</td>\n",
       "      <td>married</td>\n",
       "      <td>primary</td>\n",
       "      <td>no</td>\n",
       "      <td>yes</td>\n",
       "      <td>no</td>\n",
       "      <td>None</td>\n",
       "      <td>691</td>\n",
       "      <td>1</td>\n",
       "      <td>-1</td>\n",
       "      <td>0</td>\n",
       "      <td>None</td>\n",
       "      <td>no</td>\n",
       "      <td>1997-04-28</td>\n",
       "      <td>desktop</td>\n",
       "    </tr>\n",
       "    <tr>\n",
       "      <th>10318</th>\n",
       "      <td>9b2cd5d2-900e-4052-831f-6489f6d568af</td>\n",
       "      <td>NaN</td>\n",
       "      <td>NaN</td>\n",
       "      <td>NaN</td>\n",
       "      <td>891</td>\n",
       "      <td>management</td>\n",
       "      <td>married</td>\n",
       "      <td>tertiary</td>\n",
       "      <td>no</td>\n",
       "      <td>yes</td>\n",
       "      <td>no</td>\n",
       "      <td>None</td>\n",
       "      <td>278</td>\n",
       "      <td>2</td>\n",
       "      <td>-1</td>\n",
       "      <td>0</td>\n",
       "      <td>None</td>\n",
       "      <td>no</td>\n",
       "      <td>2003-10-03</td>\n",
       "      <td>mobile</td>\n",
       "    </tr>\n",
       "  </tbody>\n",
       "</table>\n",
       "</div>"
      ],
      "text/plain": [
       "                                    user_id transaction_id  amount_usd   \n",
       "7228   44fefdad-7045-4be5-890e-12e84ae6fdc9            NaN         NaN  \\\n",
       "10318  9b2cd5d2-900e-4052-831f-6489f6d568af            NaN         NaN   \n",
       "\n",
       "      date_joined_x  age          job  marital education default housing loan   \n",
       "7228            NaN  178  blue-collar  married   primary      no     yes   no  \\\n",
       "10318           NaN  891   management  married  tertiary      no     yes   no   \n",
       "\n",
       "      contact  duration  campaign  pdays  previous poutcome term_deposit   \n",
       "7228     None       691         1     -1         0     None           no  \\\n",
       "10318    None       278         2     -1         0     None           no   \n",
       "\n",
       "      date_joined_y   device  \n",
       "7228     1997-04-28  desktop  \n",
       "10318    2003-10-03   mobile  "
      ]
     },
     "execution_count": 41,
     "metadata": {},
     "output_type": "execute_result"
    }
   ],
   "source": [
    "users_w_devices_and_transactions[users_w_devices_and_transactions.age > 150]"
   ]
  },
  {
   "cell_type": "markdown",
   "metadata": {},
   "source": [
    "# Drop incorrect data"
   ]
  },
  {
   "cell_type": "code",
   "execution_count": 45,
   "metadata": {
    "colab": {
     "base_uri": "https://localhost:8080/"
    },
    "executionInfo": {
     "elapsed": 4039,
     "status": "ok",
     "timestamp": 1613256969741,
     "user": {
      "displayName": "Sarah Haq",
      "photoUrl": "https://lh3.googleusercontent.com/a-/AOh14Gh7vs3P5_F3LYi7bEV8r1vbltDxEgpoYXmxHgxGBw=s64",
      "userId": "16294508270436203551"
     },
     "user_tz": -60
    },
    "id": "zRF19NmQgr8M",
    "outputId": "72d5f808-5058-456f-e649-a78d200074d7"
   },
   "outputs": [
    {
     "data": {
      "text/plain": [
       "(45214, 20)"
      ]
     },
     "execution_count": 45,
     "metadata": {},
     "output_type": "execute_result"
    }
   ],
   "source": [
    "users_w_devices_and_transactions_cleaned_table = users_w_devices_and_transactions[users_w_devices_and_transactions.age<150]\n",
    "\n",
    "users_cleaned = users_w_devices_and_transactions_cleaned_table\n",
    "users_cleaned.shape\n"
   ]
  },
  {
   "cell_type": "markdown",
   "metadata": {},
   "source": [
    "# Identify more potentially erroneous data"
   ]
  },
  {
   "cell_type": "code",
   "execution_count": 46,
   "metadata": {
    "colab": {
     "base_uri": "https://localhost:8080/",
     "height": 450
    },
    "executionInfo": {
     "elapsed": 3876,
     "status": "ok",
     "timestamp": 1613256969741,
     "user": {
      "displayName": "Sarah Haq",
      "photoUrl": "https://lh3.googleusercontent.com/a-/AOh14Gh7vs3P5_F3LYi7bEV8r1vbltDxEgpoYXmxHgxGBw=s64",
      "userId": "16294508270436203551"
     },
     "user_tz": -60
    },
    "id": "wgEg4CR4htEJ",
    "outputId": "b94917f7-4994-43fb-ef3b-c3df69816413"
   },
   "outputs": [
    {
     "data": {
      "text/html": [
       "<div>\n",
       "<style scoped>\n",
       "    .dataframe tbody tr th:only-of-type {\n",
       "        vertical-align: middle;\n",
       "    }\n",
       "\n",
       "    .dataframe tbody tr th {\n",
       "        vertical-align: top;\n",
       "    }\n",
       "\n",
       "    .dataframe thead th {\n",
       "        text-align: right;\n",
       "    }\n",
       "</style>\n",
       "<table border=\"1\" class=\"dataframe\">\n",
       "  <thead>\n",
       "    <tr style=\"text-align: right;\">\n",
       "      <th>device</th>\n",
       "      <th>desktop</th>\n",
       "      <th>mobile</th>\n",
       "      <th>tablet</th>\n",
       "    </tr>\n",
       "    <tr>\n",
       "      <th>age</th>\n",
       "      <th></th>\n",
       "      <th></th>\n",
       "      <th></th>\n",
       "    </tr>\n",
       "  </thead>\n",
       "  <tbody>\n",
       "    <tr>\n",
       "      <th>18</th>\n",
       "      <td>5</td>\n",
       "      <td>6</td>\n",
       "      <td>1</td>\n",
       "    </tr>\n",
       "    <tr>\n",
       "      <th>19</th>\n",
       "      <td>10</td>\n",
       "      <td>22</td>\n",
       "      <td>3</td>\n",
       "    </tr>\n",
       "    <tr>\n",
       "      <th>20</th>\n",
       "      <td>11</td>\n",
       "      <td>33</td>\n",
       "      <td>6</td>\n",
       "    </tr>\n",
       "    <tr>\n",
       "      <th>21</th>\n",
       "      <td>16</td>\n",
       "      <td>44</td>\n",
       "      <td>19</td>\n",
       "    </tr>\n",
       "    <tr>\n",
       "      <th>22</th>\n",
       "      <td>30</td>\n",
       "      <td>87</td>\n",
       "      <td>11</td>\n",
       "    </tr>\n",
       "    <tr>\n",
       "      <th>...</th>\n",
       "      <td>...</td>\n",
       "      <td>...</td>\n",
       "      <td>...</td>\n",
       "    </tr>\n",
       "    <tr>\n",
       "      <th>90</th>\n",
       "      <td>1</td>\n",
       "      <td>1</td>\n",
       "      <td>0</td>\n",
       "    </tr>\n",
       "    <tr>\n",
       "      <th>92</th>\n",
       "      <td>1</td>\n",
       "      <td>1</td>\n",
       "      <td>0</td>\n",
       "    </tr>\n",
       "    <tr>\n",
       "      <th>93</th>\n",
       "      <td>0</td>\n",
       "      <td>2</td>\n",
       "      <td>0</td>\n",
       "    </tr>\n",
       "    <tr>\n",
       "      <th>94</th>\n",
       "      <td>0</td>\n",
       "      <td>1</td>\n",
       "      <td>0</td>\n",
       "    </tr>\n",
       "    <tr>\n",
       "      <th>95</th>\n",
       "      <td>0</td>\n",
       "      <td>1</td>\n",
       "      <td>1</td>\n",
       "    </tr>\n",
       "  </tbody>\n",
       "</table>\n",
       "<p>77 rows × 3 columns</p>\n",
       "</div>"
      ],
      "text/plain": [
       "device  desktop  mobile  tablet\n",
       "age                            \n",
       "18            5       6       1\n",
       "19           10      22       3\n",
       "20           11      33       6\n",
       "21           16      44      19\n",
       "22           30      87      11\n",
       "..          ...     ...     ...\n",
       "90            1       1       0\n",
       "92            1       1       0\n",
       "93            0       2       0\n",
       "94            0       1       0\n",
       "95            0       1       1\n",
       "\n",
       "[77 rows x 3 columns]"
      ]
     },
     "execution_count": 46,
     "metadata": {},
     "output_type": "execute_result"
    }
   ],
   "source": [
    "# Compare age to device.\n",
    "pd.crosstab(users_cleaned['age'], users_cleaned['device'])"
   ]
  },
  {
   "cell_type": "markdown",
   "metadata": {},
   "source": [
    "# Identify data types that need correcting"
   ]
  },
  {
   "cell_type": "code",
   "execution_count": 47,
   "metadata": {
    "colab": {
     "base_uri": "https://localhost:8080/"
    },
    "executionInfo": {
     "elapsed": 636,
     "status": "ok",
     "timestamp": 1613257018578,
     "user": {
      "displayName": "Sarah Haq",
      "photoUrl": "https://lh3.googleusercontent.com/a-/AOh14Gh7vs3P5_F3LYi7bEV8r1vbltDxEgpoYXmxHgxGBw=s64",
      "userId": "16294508270436203551"
     },
     "user_tz": -60
    },
    "id": "pTMvIEEarcAu",
    "outputId": "aeaaca7a-a9b3-4f41-ae6c-0f6e51a24720"
   },
   "outputs": [
    {
     "name": "stdout",
     "output_type": "stream",
     "text": [
      "<class 'pandas.core.frame.DataFrame'>\n",
      "Index: 45214 entries, 0 to 45215\n",
      "Data columns (total 20 columns):\n",
      " #   Column          Non-Null Count  Dtype  \n",
      "---  ------          --------------  -----  \n",
      " 0   user_id         45214 non-null  object \n",
      " 1   transaction_id  219 non-null    object \n",
      " 2   amount_usd      219 non-null    float64\n",
      " 3   date_joined_x   219 non-null    object \n",
      " 4   age             45214 non-null  int64  \n",
      " 5   job             44926 non-null  object \n",
      " 6   marital         45214 non-null  object \n",
      " 7   education       43357 non-null  object \n",
      " 8   default         45214 non-null  object \n",
      " 9   housing         45214 non-null  object \n",
      " 10  loan            45214 non-null  object \n",
      " 11  contact         32196 non-null  object \n",
      " 12  duration        45214 non-null  int64  \n",
      " 13  campaign        45214 non-null  int64  \n",
      " 14  pdays           45214 non-null  int64  \n",
      " 15  previous        45214 non-null  int64  \n",
      " 16  poutcome        8255 non-null   object \n",
      " 17  term_deposit    45214 non-null  object \n",
      " 18  date_joined_y   45184 non-null  object \n",
      " 19  device          45120 non-null  object \n",
      "dtypes: float64(1), int64(5), object(14)\n",
      "memory usage: 7.2+ MB\n"
     ]
    }
   ],
   "source": [
    "users_cleaned.info()"
   ]
  },
  {
   "cell_type": "code",
   "execution_count": 54,
   "metadata": {},
   "outputs": [
    {
     "data": {
      "text/plain": [
       "default\n",
       "no     44398\n",
       "yes      816\n",
       "Name: count, dtype: int64"
      ]
     },
     "execution_count": 54,
     "metadata": {},
     "output_type": "execute_result"
    }
   ],
   "source": [
    "users_cleaned.default.value_counts()"
   ]
  },
  {
   "cell_type": "markdown",
   "metadata": {},
   "source": [
    "# Convert the relevant variables to a Boolean type"
   ]
  },
  {
   "cell_type": "code",
   "execution_count": 71,
   "metadata": {},
   "outputs": [
    {
     "data": {
      "text/plain": [
       "default\n",
       "False    44398\n",
       "True       816\n",
       "Name: count, dtype: int64"
      ]
     },
     "execution_count": 71,
     "metadata": {},
     "output_type": "execute_result"
    }
   ],
   "source": [
    "users_cleaned_1 = users_cleaned.copy()\n",
    "\n",
    "users_cleaned_1['default'] = \\\n",
    "users_cleaned_1['default'].map(dict(yes=1, no=0)).astype(bool)\n",
    "\n",
    "users_cleaned_1['default'].value_counts()"
   ]
  },
  {
   "cell_type": "code",
   "execution_count": 91,
   "metadata": {},
   "outputs": [
    {
     "name": "stdout",
     "output_type": "stream",
     "text": [
      "housing\n",
      "True     25131\n",
      "False    20083\n",
      "Name: count, dtype: int64\n",
      "loan\n",
      "False    37970\n",
      "True      7244\n",
      "Name: count, dtype: int64\n",
      "term_deposit\n",
      "False    39925\n",
      "True      5289\n",
      "Name: count, dtype: int64\n"
     ]
    }
   ],
   "source": [
    "# Do the same for the other Boolean variables.\n",
    "\n",
    "bool_vars = ['housing', 'loan', 'term_deposit']\n",
    "\n",
    "for var in bool_vars:\n",
    "    users_cleaned_1[var] = \\\n",
    "    users_cleaned_1[var].map(dict(yes=1, no=0)).astype(bool)\n",
    "    print(users_cleaned_1[var].value_counts())\n"
   ]
  },
  {
   "cell_type": "code",
   "execution_count": 92,
   "metadata": {},
   "outputs": [
    {
     "data": {
      "text/plain": [
       "<bound method DataFrame.info of                                     user_id transaction_id  amount_usd   \n",
       "0      9231c446-cb16-4b2b-a7f7-ddfc8b25aaf6            NaN         NaN  \\\n",
       "1      bb92765a-08de-4963-b432-496524b39157            NaN         NaN   \n",
       "2      573de577-49ef-42b9-83da-d3cfb817b5c1            NaN         NaN   \n",
       "3      d6b66b9d-7c8f-4257-a682-e136f640b7e3            NaN         NaN   \n",
       "4      fade0b20-7594-4d9a-84cd-c02f79b1b526            NaN         NaN   \n",
       "...                                     ...            ...         ...   \n",
       "45211  cba59442-af3c-41d7-a39c-0f9bffba0660            NaN         NaN   \n",
       "45212  1e826721-b38c-41c2-88f4-4c28b335b1e6            NaN         NaN   \n",
       "45213  a2fb8264-d55a-437b-a8e7-9ec4116b76f4            NaN         NaN   \n",
       "45214  ae3b92a2-cad8-434f-8037-9815e2228839            NaN         NaN   \n",
       "45215  f49ac08f-b872-4d57-ac82-9b8a9144020d            NaN         NaN   \n",
       "\n",
       "      date_joined_x  age           job  marital  education  default  housing   \n",
       "0               NaN   58    management  married   tertiary    False     True  \\\n",
       "1               NaN   44    technician   single  secondary    False     True   \n",
       "2               NaN   33  entrepreneur  married  secondary    False     True   \n",
       "3               NaN   47   blue-collar  married       None    False     True   \n",
       "4               NaN   33          None   single       None    False    False   \n",
       "...             ...  ...           ...      ...        ...      ...      ...   \n",
       "45211           NaN   57    management  married   tertiary     True     True   \n",
       "45212           NaN   31    technician   single  secondary    False    False   \n",
       "45213           NaN   34    management  married   tertiary    False    False   \n",
       "45214           NaN   43        admin.   single  secondary    False     True   \n",
       "45215           NaN   38   blue-collar  married  secondary    False     True   \n",
       "\n",
       "        loan   contact  duration  campaign  pdays  previous poutcome   \n",
       "0      False      None       261         1     -1         0     None  \\\n",
       "1      False      None       151         1     -1         0     None   \n",
       "2       True      None        76         1     -1         0     None   \n",
       "3      False      None        92         1     -1         0     None   \n",
       "4      False      None       198         1     -1         0     None   \n",
       "...      ...       ...       ...       ...    ...       ...      ...   \n",
       "45211  False  cellular       317         6     -1         0     None   \n",
       "45212  False  cellular       129         1     -1         0     None   \n",
       "45213  False  cellular       156         1    177         1  success   \n",
       "45214  False  cellular        76         2    304         2  failure   \n",
       "45215  False  cellular        54         1    337         1  failure   \n",
       "\n",
       "       term_deposit date_joined_y   device  \n",
       "0             False    1998-08-23   mobile  \n",
       "1             False    2008-07-15  desktop  \n",
       "2             False    2002-06-04   mobile  \n",
       "3             False    1995-06-29   tablet  \n",
       "4             False    1995-08-01   mobile  \n",
       "...             ...           ...      ...  \n",
       "45211         False    1993-02-27  desktop  \n",
       "45212         False    1990-05-10   mobile  \n",
       "45213         False    1989-09-02   mobile  \n",
       "45214         False    1992-10-29  desktop  \n",
       "45215         False    2010-06-11   mobile  \n",
       "\n",
       "[45214 rows x 20 columns]>"
      ]
     },
     "execution_count": 92,
     "metadata": {},
     "output_type": "execute_result"
    }
   ],
   "source": [
    "users_cleaned_1.info"
   ]
  },
  {
   "cell_type": "markdown",
   "metadata": {},
   "source": [
    "# Convert `date_joined` to a datetime format"
   ]
  },
  {
   "cell_type": "code",
   "execution_count": 104,
   "metadata": {
    "executionInfo": {
     "elapsed": 3457,
     "status": "ok",
     "timestamp": 1613256970037,
     "user": {
      "displayName": "Sarah Haq",
      "photoUrl": "https://lh3.googleusercontent.com/a-/AOh14Gh7vs3P5_F3LYi7bEV8r1vbltDxEgpoYXmxHgxGBw=s64",
      "userId": "16294508270436203551"
     },
     "user_tz": -60
    },
    "id": "l4oDcULoyJQL"
   },
   "outputs": [
    {
     "data": {
      "text/plain": [
       "0       1998-08-23\n",
       "1       2008-07-15\n",
       "2       2002-06-04\n",
       "3       1995-06-29\n",
       "4       1995-08-01\n",
       "           ...    \n",
       "45211   1993-02-27\n",
       "45212   1990-05-10\n",
       "45213   1989-09-02\n",
       "45214   1992-10-29\n",
       "45215   2010-06-11\n",
       "Name: date_joined_y, Length: 45214, dtype: datetime64[ns]"
      ]
     },
     "execution_count": 104,
     "metadata": {},
     "output_type": "execute_result"
    }
   ],
   "source": [
    "  # Work with a new object.\n",
    "users_cleaned_2 = users_cleaned_1.copy()\n",
    "pd.to_datetime(users_cleaned_2['date_joined_y'], format=\"%Y-%m-%d\")"
   ]
  },
  {
   "cell_type": "code",
   "execution_count": 107,
   "metadata": {},
   "outputs": [
    {
     "data": {
      "text/plain": [
       "<bound method DataFrame.info of                                     user_id transaction_id  amount_usd   \n",
       "0      9231c446-cb16-4b2b-a7f7-ddfc8b25aaf6            NaN         NaN  \\\n",
       "1      bb92765a-08de-4963-b432-496524b39157            NaN         NaN   \n",
       "2      573de577-49ef-42b9-83da-d3cfb817b5c1            NaN         NaN   \n",
       "3      d6b66b9d-7c8f-4257-a682-e136f640b7e3            NaN         NaN   \n",
       "4      fade0b20-7594-4d9a-84cd-c02f79b1b526            NaN         NaN   \n",
       "...                                     ...            ...         ...   \n",
       "45211  cba59442-af3c-41d7-a39c-0f9bffba0660            NaN         NaN   \n",
       "45212  1e826721-b38c-41c2-88f4-4c28b335b1e6            NaN         NaN   \n",
       "45213  a2fb8264-d55a-437b-a8e7-9ec4116b76f4            NaN         NaN   \n",
       "45214  ae3b92a2-cad8-434f-8037-9815e2228839            NaN         NaN   \n",
       "45215  f49ac08f-b872-4d57-ac82-9b8a9144020d            NaN         NaN   \n",
       "\n",
       "      date_joined_x  age           job  marital  education  default  housing   \n",
       "0               NaN   58    management  married   tertiary    False     True  \\\n",
       "1               NaN   44    technician   single  secondary    False     True   \n",
       "2               NaN   33  entrepreneur  married  secondary    False     True   \n",
       "3               NaN   47   blue-collar  married       None    False     True   \n",
       "4               NaN   33          None   single       None    False    False   \n",
       "...             ...  ...           ...      ...        ...      ...      ...   \n",
       "45211           NaN   57    management  married   tertiary     True     True   \n",
       "45212           NaN   31    technician   single  secondary    False    False   \n",
       "45213           NaN   34    management  married   tertiary    False    False   \n",
       "45214           NaN   43        admin.   single  secondary    False     True   \n",
       "45215           NaN   38   blue-collar  married  secondary    False     True   \n",
       "\n",
       "        loan   contact  duration  campaign  pdays  previous poutcome   \n",
       "0      False      None       261         1     -1         0     None  \\\n",
       "1      False      None       151         1     -1         0     None   \n",
       "2       True      None        76         1     -1         0     None   \n",
       "3      False      None        92         1     -1         0     None   \n",
       "4      False      None       198         1     -1         0     None   \n",
       "...      ...       ...       ...       ...    ...       ...      ...   \n",
       "45211  False  cellular       317         6     -1         0     None   \n",
       "45212  False  cellular       129         1     -1         0     None   \n",
       "45213  False  cellular       156         1    177         1  success   \n",
       "45214  False  cellular        76         2    304         2  failure   \n",
       "45215  False  cellular        54         1    337         1  failure   \n",
       "\n",
       "       term_deposit date_joined_y   device  \n",
       "0             False    1998-08-23   mobile  \n",
       "1             False    2008-07-15  desktop  \n",
       "2             False    2002-06-04   mobile  \n",
       "3             False    1995-06-29   tablet  \n",
       "4             False    1995-08-01   mobile  \n",
       "...             ...           ...      ...  \n",
       "45211         False    1993-02-27  desktop  \n",
       "45212         False    1990-05-10   mobile  \n",
       "45213         False    1989-09-02   mobile  \n",
       "45214         False    1992-10-29  desktop  \n",
       "45215         False    2010-06-11   mobile  \n",
       "\n",
       "[45214 rows x 20 columns]>"
      ]
     },
     "execution_count": 107,
     "metadata": {},
     "output_type": "execute_result"
    }
   ],
   "source": [
    "users_cleaned_2.info"
   ]
  },
  {
   "cell_type": "markdown",
   "metadata": {},
   "source": [
    "# Identify all duplicated data"
   ]
  },
  {
   "cell_type": "code",
   "execution_count": 145,
   "metadata": {
    "colab": {
     "base_uri": "https://localhost:8080/"
    },
    "executionInfo": {
     "elapsed": 2645,
     "status": "ok",
     "timestamp": 1613256970037,
     "user": {
      "displayName": "Sarah Haq",
      "photoUrl": "https://lh3.googleusercontent.com/a-/AOh14Gh7vs3P5_F3LYi7bEV8r1vbltDxEgpoYXmxHgxGBw=s64",
      "userId": "16294508270436203551"
     },
     "user_tz": -60
    },
    "id": "LF_9hgX-mD9b",
    "outputId": "b78d6139-ae68-407b-9126-68c255f4d547"
   },
   "outputs": [
    {
     "name": "stdout",
     "output_type": "stream",
     "text": [
      "numer of rows with duplicated data: 10\n"
     ]
    }
   ],
   "source": [
    "duplicated_data = \\\n",
    "users_cleaned_2[users_cleaned_2.duplicated(keep=False)]\n",
    "print(f'numer of rows with duplicated data: {duplicated_data.shape[0]}') "
   ]
  },
  {
   "cell_type": "code",
   "execution_count": 146,
   "metadata": {},
   "outputs": [
    {
     "data": {
      "text/html": [
       "<div>\n",
       "<style scoped>\n",
       "    .dataframe tbody tr th:only-of-type {\n",
       "        vertical-align: middle;\n",
       "    }\n",
       "\n",
       "    .dataframe tbody tr th {\n",
       "        vertical-align: top;\n",
       "    }\n",
       "\n",
       "    .dataframe thead th {\n",
       "        text-align: right;\n",
       "    }\n",
       "</style>\n",
       "<table border=\"1\" class=\"dataframe\">\n",
       "  <thead>\n",
       "    <tr style=\"text-align: right;\">\n",
       "      <th></th>\n",
       "      <th>user_id</th>\n",
       "      <th>transaction_id</th>\n",
       "      <th>amount_usd</th>\n",
       "      <th>date_joined_x</th>\n",
       "      <th>age</th>\n",
       "      <th>job</th>\n",
       "      <th>marital</th>\n",
       "      <th>education</th>\n",
       "      <th>default</th>\n",
       "      <th>housing</th>\n",
       "      <th>loan</th>\n",
       "      <th>contact</th>\n",
       "      <th>duration</th>\n",
       "      <th>campaign</th>\n",
       "      <th>pdays</th>\n",
       "      <th>previous</th>\n",
       "      <th>poutcome</th>\n",
       "      <th>term_deposit</th>\n",
       "      <th>date_joined_y</th>\n",
       "      <th>device</th>\n",
       "    </tr>\n",
       "  </thead>\n",
       "  <tbody>\n",
       "    <tr>\n",
       "      <th>15456</th>\n",
       "      <td>cba59442-af3c-41d7-a39c-0f9bffba0660</td>\n",
       "      <td>NaN</td>\n",
       "      <td>NaN</td>\n",
       "      <td>NaN</td>\n",
       "      <td>57</td>\n",
       "      <td>management</td>\n",
       "      <td>married</td>\n",
       "      <td>tertiary</td>\n",
       "      <td>True</td>\n",
       "      <td>True</td>\n",
       "      <td>False</td>\n",
       "      <td>cellular</td>\n",
       "      <td>317</td>\n",
       "      <td>6</td>\n",
       "      <td>-1</td>\n",
       "      <td>0</td>\n",
       "      <td>None</td>\n",
       "      <td>False</td>\n",
       "      <td>1993-02-27</td>\n",
       "      <td>desktop</td>\n",
       "    </tr>\n",
       "    <tr>\n",
       "      <th>22005</th>\n",
       "      <td>1e826721-b38c-41c2-88f4-4c28b335b1e6</td>\n",
       "      <td>NaN</td>\n",
       "      <td>NaN</td>\n",
       "      <td>NaN</td>\n",
       "      <td>31</td>\n",
       "      <td>technician</td>\n",
       "      <td>single</td>\n",
       "      <td>secondary</td>\n",
       "      <td>False</td>\n",
       "      <td>False</td>\n",
       "      <td>False</td>\n",
       "      <td>cellular</td>\n",
       "      <td>129</td>\n",
       "      <td>1</td>\n",
       "      <td>-1</td>\n",
       "      <td>0</td>\n",
       "      <td>None</td>\n",
       "      <td>False</td>\n",
       "      <td>1990-05-10</td>\n",
       "      <td>mobile</td>\n",
       "    </tr>\n",
       "    <tr>\n",
       "      <th>35413</th>\n",
       "      <td>a2fb8264-d55a-437b-a8e7-9ec4116b76f4</td>\n",
       "      <td>NaN</td>\n",
       "      <td>NaN</td>\n",
       "      <td>NaN</td>\n",
       "      <td>34</td>\n",
       "      <td>management</td>\n",
       "      <td>married</td>\n",
       "      <td>tertiary</td>\n",
       "      <td>False</td>\n",
       "      <td>False</td>\n",
       "      <td>False</td>\n",
       "      <td>cellular</td>\n",
       "      <td>156</td>\n",
       "      <td>1</td>\n",
       "      <td>177</td>\n",
       "      <td>1</td>\n",
       "      <td>success</td>\n",
       "      <td>False</td>\n",
       "      <td>1989-09-02</td>\n",
       "      <td>mobile</td>\n",
       "    </tr>\n",
       "    <tr>\n",
       "      <th>35620</th>\n",
       "      <td>f49ac08f-b872-4d57-ac82-9b8a9144020d</td>\n",
       "      <td>NaN</td>\n",
       "      <td>NaN</td>\n",
       "      <td>NaN</td>\n",
       "      <td>38</td>\n",
       "      <td>blue-collar</td>\n",
       "      <td>married</td>\n",
       "      <td>secondary</td>\n",
       "      <td>False</td>\n",
       "      <td>True</td>\n",
       "      <td>False</td>\n",
       "      <td>cellular</td>\n",
       "      <td>54</td>\n",
       "      <td>1</td>\n",
       "      <td>337</td>\n",
       "      <td>1</td>\n",
       "      <td>failure</td>\n",
       "      <td>False</td>\n",
       "      <td>2010-06-11</td>\n",
       "      <td>mobile</td>\n",
       "    </tr>\n",
       "    <tr>\n",
       "      <th>36292</th>\n",
       "      <td>ae3b92a2-cad8-434f-8037-9815e2228839</td>\n",
       "      <td>NaN</td>\n",
       "      <td>NaN</td>\n",
       "      <td>NaN</td>\n",
       "      <td>43</td>\n",
       "      <td>admin.</td>\n",
       "      <td>single</td>\n",
       "      <td>secondary</td>\n",
       "      <td>False</td>\n",
       "      <td>True</td>\n",
       "      <td>False</td>\n",
       "      <td>cellular</td>\n",
       "      <td>76</td>\n",
       "      <td>2</td>\n",
       "      <td>304</td>\n",
       "      <td>2</td>\n",
       "      <td>failure</td>\n",
       "      <td>False</td>\n",
       "      <td>1992-10-29</td>\n",
       "      <td>desktop</td>\n",
       "    </tr>\n",
       "    <tr>\n",
       "      <th>45211</th>\n",
       "      <td>cba59442-af3c-41d7-a39c-0f9bffba0660</td>\n",
       "      <td>NaN</td>\n",
       "      <td>NaN</td>\n",
       "      <td>NaN</td>\n",
       "      <td>57</td>\n",
       "      <td>management</td>\n",
       "      <td>married</td>\n",
       "      <td>tertiary</td>\n",
       "      <td>True</td>\n",
       "      <td>True</td>\n",
       "      <td>False</td>\n",
       "      <td>cellular</td>\n",
       "      <td>317</td>\n",
       "      <td>6</td>\n",
       "      <td>-1</td>\n",
       "      <td>0</td>\n",
       "      <td>None</td>\n",
       "      <td>False</td>\n",
       "      <td>1993-02-27</td>\n",
       "      <td>desktop</td>\n",
       "    </tr>\n",
       "    <tr>\n",
       "      <th>45212</th>\n",
       "      <td>1e826721-b38c-41c2-88f4-4c28b335b1e6</td>\n",
       "      <td>NaN</td>\n",
       "      <td>NaN</td>\n",
       "      <td>NaN</td>\n",
       "      <td>31</td>\n",
       "      <td>technician</td>\n",
       "      <td>single</td>\n",
       "      <td>secondary</td>\n",
       "      <td>False</td>\n",
       "      <td>False</td>\n",
       "      <td>False</td>\n",
       "      <td>cellular</td>\n",
       "      <td>129</td>\n",
       "      <td>1</td>\n",
       "      <td>-1</td>\n",
       "      <td>0</td>\n",
       "      <td>None</td>\n",
       "      <td>False</td>\n",
       "      <td>1990-05-10</td>\n",
       "      <td>mobile</td>\n",
       "    </tr>\n",
       "    <tr>\n",
       "      <th>45213</th>\n",
       "      <td>a2fb8264-d55a-437b-a8e7-9ec4116b76f4</td>\n",
       "      <td>NaN</td>\n",
       "      <td>NaN</td>\n",
       "      <td>NaN</td>\n",
       "      <td>34</td>\n",
       "      <td>management</td>\n",
       "      <td>married</td>\n",
       "      <td>tertiary</td>\n",
       "      <td>False</td>\n",
       "      <td>False</td>\n",
       "      <td>False</td>\n",
       "      <td>cellular</td>\n",
       "      <td>156</td>\n",
       "      <td>1</td>\n",
       "      <td>177</td>\n",
       "      <td>1</td>\n",
       "      <td>success</td>\n",
       "      <td>False</td>\n",
       "      <td>1989-09-02</td>\n",
       "      <td>mobile</td>\n",
       "    </tr>\n",
       "    <tr>\n",
       "      <th>45214</th>\n",
       "      <td>ae3b92a2-cad8-434f-8037-9815e2228839</td>\n",
       "      <td>NaN</td>\n",
       "      <td>NaN</td>\n",
       "      <td>NaN</td>\n",
       "      <td>43</td>\n",
       "      <td>admin.</td>\n",
       "      <td>single</td>\n",
       "      <td>secondary</td>\n",
       "      <td>False</td>\n",
       "      <td>True</td>\n",
       "      <td>False</td>\n",
       "      <td>cellular</td>\n",
       "      <td>76</td>\n",
       "      <td>2</td>\n",
       "      <td>304</td>\n",
       "      <td>2</td>\n",
       "      <td>failure</td>\n",
       "      <td>False</td>\n",
       "      <td>1992-10-29</td>\n",
       "      <td>desktop</td>\n",
       "    </tr>\n",
       "    <tr>\n",
       "      <th>45215</th>\n",
       "      <td>f49ac08f-b872-4d57-ac82-9b8a9144020d</td>\n",
       "      <td>NaN</td>\n",
       "      <td>NaN</td>\n",
       "      <td>NaN</td>\n",
       "      <td>38</td>\n",
       "      <td>blue-collar</td>\n",
       "      <td>married</td>\n",
       "      <td>secondary</td>\n",
       "      <td>False</td>\n",
       "      <td>True</td>\n",
       "      <td>False</td>\n",
       "      <td>cellular</td>\n",
       "      <td>54</td>\n",
       "      <td>1</td>\n",
       "      <td>337</td>\n",
       "      <td>1</td>\n",
       "      <td>failure</td>\n",
       "      <td>False</td>\n",
       "      <td>2010-06-11</td>\n",
       "      <td>mobile</td>\n",
       "    </tr>\n",
       "  </tbody>\n",
       "</table>\n",
       "</div>"
      ],
      "text/plain": [
       "                                    user_id transaction_id  amount_usd   \n",
       "15456  cba59442-af3c-41d7-a39c-0f9bffba0660            NaN         NaN  \\\n",
       "22005  1e826721-b38c-41c2-88f4-4c28b335b1e6            NaN         NaN   \n",
       "35413  a2fb8264-d55a-437b-a8e7-9ec4116b76f4            NaN         NaN   \n",
       "35620  f49ac08f-b872-4d57-ac82-9b8a9144020d            NaN         NaN   \n",
       "36292  ae3b92a2-cad8-434f-8037-9815e2228839            NaN         NaN   \n",
       "45211  cba59442-af3c-41d7-a39c-0f9bffba0660            NaN         NaN   \n",
       "45212  1e826721-b38c-41c2-88f4-4c28b335b1e6            NaN         NaN   \n",
       "45213  a2fb8264-d55a-437b-a8e7-9ec4116b76f4            NaN         NaN   \n",
       "45214  ae3b92a2-cad8-434f-8037-9815e2228839            NaN         NaN   \n",
       "45215  f49ac08f-b872-4d57-ac82-9b8a9144020d            NaN         NaN   \n",
       "\n",
       "      date_joined_x  age          job  marital  education  default  housing   \n",
       "15456           NaN   57   management  married   tertiary     True     True  \\\n",
       "22005           NaN   31   technician   single  secondary    False    False   \n",
       "35413           NaN   34   management  married   tertiary    False    False   \n",
       "35620           NaN   38  blue-collar  married  secondary    False     True   \n",
       "36292           NaN   43       admin.   single  secondary    False     True   \n",
       "45211           NaN   57   management  married   tertiary     True     True   \n",
       "45212           NaN   31   technician   single  secondary    False    False   \n",
       "45213           NaN   34   management  married   tertiary    False    False   \n",
       "45214           NaN   43       admin.   single  secondary    False     True   \n",
       "45215           NaN   38  blue-collar  married  secondary    False     True   \n",
       "\n",
       "        loan   contact  duration  campaign  pdays  previous poutcome   \n",
       "15456  False  cellular       317         6     -1         0     None  \\\n",
       "22005  False  cellular       129         1     -1         0     None   \n",
       "35413  False  cellular       156         1    177         1  success   \n",
       "35620  False  cellular        54         1    337         1  failure   \n",
       "36292  False  cellular        76         2    304         2  failure   \n",
       "45211  False  cellular       317         6     -1         0     None   \n",
       "45212  False  cellular       129         1     -1         0     None   \n",
       "45213  False  cellular       156         1    177         1  success   \n",
       "45214  False  cellular        76         2    304         2  failure   \n",
       "45215  False  cellular        54         1    337         1  failure   \n",
       "\n",
       "       term_deposit date_joined_y   device  \n",
       "15456         False    1993-02-27  desktop  \n",
       "22005         False    1990-05-10   mobile  \n",
       "35413         False    1989-09-02   mobile  \n",
       "35620         False    2010-06-11   mobile  \n",
       "36292         False    1992-10-29  desktop  \n",
       "45211         False    1993-02-27  desktop  \n",
       "45212         False    1990-05-10   mobile  \n",
       "45213         False    1989-09-02   mobile  \n",
       "45214         False    1992-10-29  desktop  \n",
       "45215         False    2010-06-11   mobile  "
      ]
     },
     "execution_count": 146,
     "metadata": {},
     "output_type": "execute_result"
    }
   ],
   "source": [
    "duplicated_data"
   ]
  },
  {
   "cell_type": "markdown",
   "metadata": {},
   "source": [
    "# Remove the duplicated data"
   ]
  },
  {
   "cell_type": "code",
   "execution_count": 148,
   "metadata": {
    "colab": {
     "base_uri": "https://localhost:8080/",
     "height": 479
    },
    "executionInfo": {
     "elapsed": 2562,
     "status": "ok",
     "timestamp": 1613256970329,
     "user": {
      "displayName": "Sarah Haq",
      "photoUrl": "https://lh3.googleusercontent.com/a-/AOh14Gh7vs3P5_F3LYi7bEV8r1vbltDxEgpoYXmxHgxGBw=s64",
      "userId": "16294508270436203551"
     },
     "user_tz": -60
    },
    "id": "I6WQgPvbubNS",
    "outputId": "b41c38b3-6ee5-44df-adb5-f6c09d503f46"
   },
   "outputs": [],
   "source": [
    "users_cleaned_fianl = \\\n",
    "users_cleaned_2[~users_cleaned_2.duplicated()]"
   ]
  },
  {
   "cell_type": "code",
   "execution_count": 159,
   "metadata": {
    "colab": {
     "base_uri": "https://localhost:8080/"
    },
    "executionInfo": {
     "elapsed": 739,
     "status": "ok",
     "timestamp": 1613256970626,
     "user": {
      "displayName": "Sarah Haq",
      "photoUrl": "https://lh3.googleusercontent.com/a-/AOh14Gh7vs3P5_F3LYi7bEV8r1vbltDxEgpoYXmxHgxGBw=s64",
      "userId": "16294508270436203551"
     },
     "user_tz": -60
    },
    "id": "DDFeHbwuKN8C",
    "outputId": "10a1f534-3c6c-46f1-9d58-22c3726ebaf4"
   },
   "outputs": [
    {
     "data": {
      "text/plain": [
       "user_id\n",
       "False    45208\n",
       "True         1\n",
       "Name: count, dtype: int64"
      ]
     },
     "execution_count": 159,
     "metadata": {},
     "output_type": "execute_result"
    }
   ],
   "source": [
    "check = users_cleaned_fianl['user_id'] == 'cba59442-af3c-41d7-a39c-0f9bffba0660'\n",
    "check.value_counts() # there is only one value for user_id == cba59442-af3c-41d7-a39c-0f9bffba0660, no duplicated found"
   ]
  },
  {
   "cell_type": "markdown",
   "metadata": {},
   "source": [
    "# Load data into an SQL database"
   ]
  },
  {
   "cell_type": "code",
   "execution_count": 167,
   "metadata": {
    "colab": {
     "base_uri": "https://localhost:8080/"
    },
    "executionInfo": {
     "elapsed": 4052,
     "status": "ok",
     "timestamp": 1613257052310,
     "user": {
      "displayName": "Sarah Haq",
      "photoUrl": "https://lh3.googleusercontent.com/a-/AOh14Gh7vs3P5_F3LYi7bEV8r1vbltDxEgpoYXmxHgxGBw=s64",
      "userId": "16294508270436203551"
     },
     "user_tz": -60
    },
    "id": "ggiSNNFyCiPu",
    "outputId": "29419451-07a4-409e-cdd0-89a3588fe06b"
   },
   "outputs": [
    {
     "data": {
      "text/plain": [
       "45209"
      ]
     },
     "execution_count": 167,
     "metadata": {},
     "output_type": "execute_result"
    }
   ],
   "source": [
    "conn = sqlite3.connect('user_data_cleaned.db')\n",
    "\n",
    "users_cleaned_fianl.to_sql('users_cleaned_fianl', conn, if_exists = 'replace', index = False)\n"
   ]
  },
  {
   "cell_type": "markdown",
   "metadata": {},
   "source": [
    "# Confirm that data was loaded into the database"
   ]
  },
  {
   "cell_type": "code",
   "execution_count": 173,
   "metadata": {},
   "outputs": [
    {
     "data": {
      "text/plain": [
       "(45209, 20)"
      ]
     },
     "execution_count": 173,
     "metadata": {},
     "output_type": "execute_result"
    }
   ],
   "source": [
    "query = \"SELECT * FROM users_cleaned_fianl\"\n",
    "pd.read_sql(query, conn).shape"
   ]
  },
  {
   "cell_type": "markdown",
   "metadata": {},
   "source": [
    "# Close the database connection"
   ]
  },
  {
   "cell_type": "code",
   "execution_count": 174,
   "metadata": {
    "executionInfo": {
     "elapsed": 622,
     "status": "ok",
     "timestamp": 1613257054492,
     "user": {
      "displayName": "Sarah Haq",
      "photoUrl": "https://lh3.googleusercontent.com/a-/AOh14Gh7vs3P5_F3LYi7bEV8r1vbltDxEgpoYXmxHgxGBw=s64",
      "userId": "16294508270436203551"
     },
     "user_tz": -60
    },
    "id": "1iC9Qs80Ktfn"
   },
   "outputs": [],
   "source": [
    "conn.close()"
   ]
  },
  {
   "cell_type": "markdown",
   "metadata": {},
   "source": [
    "# Write the `DataFrame` as a pickle file"
   ]
  },
  {
   "cell_type": "code",
   "execution_count": 175,
   "metadata": {
    "colab": {
     "base_uri": "https://localhost:8080/"
    },
    "executionInfo": {
     "elapsed": 1688,
     "status": "ok",
     "timestamp": 1613257047137,
     "user": {
      "displayName": "Sarah Haq",
      "photoUrl": "https://lh3.googleusercontent.com/a-/AOh14Gh7vs3P5_F3LYi7bEV8r1vbltDxEgpoYXmxHgxGBw=s64",
      "userId": "16294508270436203551"
     },
     "user_tz": -60
    },
    "id": "gbgLUN17CxLX",
    "outputId": "7f83ebcc-8396-4681-820c-119602247525"
   },
   "outputs": [],
   "source": [
    "users_cleaned_fianl.to_pickle('users_data_cleaned.pickle')"
   ]
  },
  {
   "cell_type": "markdown",
   "metadata": {},
   "source": [
    "# Confirm that the data was written to the pickle file"
   ]
  },
  {
   "cell_type": "code",
   "execution_count": 179,
   "metadata": {},
   "outputs": [
    {
     "data": {
      "text/html": [
       "<div>\n",
       "<style scoped>\n",
       "    .dataframe tbody tr th:only-of-type {\n",
       "        vertical-align: middle;\n",
       "    }\n",
       "\n",
       "    .dataframe tbody tr th {\n",
       "        vertical-align: top;\n",
       "    }\n",
       "\n",
       "    .dataframe thead th {\n",
       "        text-align: right;\n",
       "    }\n",
       "</style>\n",
       "<table border=\"1\" class=\"dataframe\">\n",
       "  <thead>\n",
       "    <tr style=\"text-align: right;\">\n",
       "      <th></th>\n",
       "      <th>user_id</th>\n",
       "      <th>transaction_id</th>\n",
       "      <th>amount_usd</th>\n",
       "      <th>date_joined_x</th>\n",
       "      <th>age</th>\n",
       "      <th>job</th>\n",
       "      <th>marital</th>\n",
       "      <th>education</th>\n",
       "      <th>default</th>\n",
       "      <th>housing</th>\n",
       "      <th>loan</th>\n",
       "      <th>contact</th>\n",
       "      <th>duration</th>\n",
       "      <th>campaign</th>\n",
       "      <th>pdays</th>\n",
       "      <th>previous</th>\n",
       "      <th>poutcome</th>\n",
       "      <th>term_deposit</th>\n",
       "      <th>date_joined_y</th>\n",
       "      <th>device</th>\n",
       "    </tr>\n",
       "  </thead>\n",
       "  <tbody>\n",
       "    <tr>\n",
       "      <th>0</th>\n",
       "      <td>9231c446-cb16-4b2b-a7f7-ddfc8b25aaf6</td>\n",
       "      <td>NaN</td>\n",
       "      <td>NaN</td>\n",
       "      <td>NaN</td>\n",
       "      <td>58</td>\n",
       "      <td>management</td>\n",
       "      <td>married</td>\n",
       "      <td>tertiary</td>\n",
       "      <td>False</td>\n",
       "      <td>True</td>\n",
       "      <td>False</td>\n",
       "      <td>None</td>\n",
       "      <td>261</td>\n",
       "      <td>1</td>\n",
       "      <td>-1</td>\n",
       "      <td>0</td>\n",
       "      <td>None</td>\n",
       "      <td>False</td>\n",
       "      <td>1998-08-23</td>\n",
       "      <td>mobile</td>\n",
       "    </tr>\n",
       "    <tr>\n",
       "      <th>1</th>\n",
       "      <td>bb92765a-08de-4963-b432-496524b39157</td>\n",
       "      <td>NaN</td>\n",
       "      <td>NaN</td>\n",
       "      <td>NaN</td>\n",
       "      <td>44</td>\n",
       "      <td>technician</td>\n",
       "      <td>single</td>\n",
       "      <td>secondary</td>\n",
       "      <td>False</td>\n",
       "      <td>True</td>\n",
       "      <td>False</td>\n",
       "      <td>None</td>\n",
       "      <td>151</td>\n",
       "      <td>1</td>\n",
       "      <td>-1</td>\n",
       "      <td>0</td>\n",
       "      <td>None</td>\n",
       "      <td>False</td>\n",
       "      <td>2008-07-15</td>\n",
       "      <td>desktop</td>\n",
       "    </tr>\n",
       "    <tr>\n",
       "      <th>2</th>\n",
       "      <td>573de577-49ef-42b9-83da-d3cfb817b5c1</td>\n",
       "      <td>NaN</td>\n",
       "      <td>NaN</td>\n",
       "      <td>NaN</td>\n",
       "      <td>33</td>\n",
       "      <td>entrepreneur</td>\n",
       "      <td>married</td>\n",
       "      <td>secondary</td>\n",
       "      <td>False</td>\n",
       "      <td>True</td>\n",
       "      <td>True</td>\n",
       "      <td>None</td>\n",
       "      <td>76</td>\n",
       "      <td>1</td>\n",
       "      <td>-1</td>\n",
       "      <td>0</td>\n",
       "      <td>None</td>\n",
       "      <td>False</td>\n",
       "      <td>2002-06-04</td>\n",
       "      <td>mobile</td>\n",
       "    </tr>\n",
       "  </tbody>\n",
       "</table>\n",
       "</div>"
      ],
      "text/plain": [
       "                                user_id transaction_id  amount_usd   \n",
       "0  9231c446-cb16-4b2b-a7f7-ddfc8b25aaf6            NaN         NaN  \\\n",
       "1  bb92765a-08de-4963-b432-496524b39157            NaN         NaN   \n",
       "2  573de577-49ef-42b9-83da-d3cfb817b5c1            NaN         NaN   \n",
       "\n",
       "  date_joined_x  age           job  marital  education  default  housing   \n",
       "0           NaN   58    management  married   tertiary    False     True  \\\n",
       "1           NaN   44    technician   single  secondary    False     True   \n",
       "2           NaN   33  entrepreneur  married  secondary    False     True   \n",
       "\n",
       "    loan contact  duration  campaign  pdays  previous poutcome  term_deposit   \n",
       "0  False    None       261         1     -1         0     None         False  \\\n",
       "1  False    None       151         1     -1         0     None         False   \n",
       "2   True    None        76         1     -1         0     None         False   \n",
       "\n",
       "  date_joined_y   device  \n",
       "0    1998-08-23   mobile  \n",
       "1    2008-07-15  desktop  \n",
       "2    2002-06-04   mobile  "
      ]
     },
     "execution_count": 179,
     "metadata": {},
     "output_type": "execute_result"
    }
   ],
   "source": [
    "pd.read_pickle('users_data_cleaned.pickle').head(3)"
   ]
  },
  {
   "cell_type": "code",
   "execution_count": 180,
   "metadata": {},
   "outputs": [
    {
     "data": {
      "text/plain": [
       "<bound method DataFrame.info of                                     user_id transaction_id  amount_usd   \n",
       "0      9231c446-cb16-4b2b-a7f7-ddfc8b25aaf6            NaN         NaN  \\\n",
       "1      bb92765a-08de-4963-b432-496524b39157            NaN         NaN   \n",
       "2      573de577-49ef-42b9-83da-d3cfb817b5c1            NaN         NaN   \n",
       "3      d6b66b9d-7c8f-4257-a682-e136f640b7e3            NaN         NaN   \n",
       "4      fade0b20-7594-4d9a-84cd-c02f79b1b526            NaN         NaN   \n",
       "...                                     ...            ...         ...   \n",
       "45206  a218c1d6-880a-4431-a314-a1bd3dc36b21            NaN         NaN   \n",
       "45207  6a6bf402-9416-4e71-97c6-727e8298a3a5            NaN         NaN   \n",
       "45208  be32ba96-b178-4b54-b32a-f75b714793df            NaN         NaN   \n",
       "45209  44623a48-4e9b-48fd-b155-a17d1c06a754            NaN         NaN   \n",
       "45210  5905741c-3f30-416f-8ee5-71abad035de6            NaN         NaN   \n",
       "\n",
       "      date_joined_x  age           job   marital  education  default  housing   \n",
       "0               NaN   58    management   married   tertiary    False     True  \\\n",
       "1               NaN   44    technician    single  secondary    False     True   \n",
       "2               NaN   33  entrepreneur   married  secondary    False     True   \n",
       "3               NaN   47   blue-collar   married       None    False     True   \n",
       "4               NaN   33          None    single       None    False    False   \n",
       "...             ...  ...           ...       ...        ...      ...      ...   \n",
       "45206           NaN   51    technician   married   tertiary    False    False   \n",
       "45207           NaN   71       retired  divorced    primary    False    False   \n",
       "45208           NaN   72       retired   married  secondary    False    False   \n",
       "45209           NaN   57   blue-collar   married  secondary    False    False   \n",
       "45210           NaN   37  entrepreneur   married  secondary    False    False   \n",
       "\n",
       "        loan    contact  duration  campaign  pdays  previous poutcome   \n",
       "0      False       None       261         1     -1         0     None  \\\n",
       "1      False       None       151         1     -1         0     None   \n",
       "2       True       None        76         1     -1         0     None   \n",
       "3      False       None        92         1     -1         0     None   \n",
       "4      False       None       198         1     -1         0     None   \n",
       "...      ...        ...       ...       ...    ...       ...      ...   \n",
       "45206  False   cellular       977         3     -1         0     None   \n",
       "45207  False   cellular       456         2     -1         0     None   \n",
       "45208  False   cellular      1127         5    184         3  success   \n",
       "45209  False  telephone       508         4     -1         0     None   \n",
       "45210  False   cellular       361         2    188        11    other   \n",
       "\n",
       "       term_deposit date_joined_y   device  \n",
       "0             False    1998-08-23   mobile  \n",
       "1             False    2008-07-15  desktop  \n",
       "2             False    2002-06-04   mobile  \n",
       "3             False    1995-06-29   tablet  \n",
       "4             False    1995-08-01   mobile  \n",
       "...             ...           ...      ...  \n",
       "45206          True    2002-12-28  desktop  \n",
       "45207          True    2010-11-18  desktop  \n",
       "45208          True    1996-06-18   mobile  \n",
       "45209         False    1996-09-14  desktop  \n",
       "45210         False    1994-04-28   mobile  \n",
       "\n",
       "[45209 rows x 20 columns]>"
      ]
     },
     "execution_count": 180,
     "metadata": {},
     "output_type": "execute_result"
    }
   ],
   "source": [
    "pd.read_pickle('users_data_cleaned.pickle').info"
   ]
  },
  {
   "cell_type": "markdown",
   "metadata": {},
   "source": [
    "# Write the data to a CSV file"
   ]
  },
  {
   "cell_type": "code",
   "execution_count": 188,
   "metadata": {
    "colab": {
     "base_uri": "https://localhost:8080/"
    },
    "executionInfo": {
     "elapsed": 1283,
     "status": "ok",
     "timestamp": 1613257044255,
     "user": {
      "displayName": "Sarah Haq",
      "photoUrl": "https://lh3.googleusercontent.com/a-/AOh14Gh7vs3P5_F3LYi7bEV8r1vbltDxEgpoYXmxHgxGBw=s64",
      "userId": "16294508270436203551"
     },
     "user_tz": -60
    },
    "id": "zaTeQUxNvhuy",
    "outputId": "1b7b5758-8c46-49bc-b854-2326b783d225"
   },
   "outputs": [],
   "source": [
    "users_cleaned_fianl.to_csv('users_data_cleaned.csv', index=False)"
   ]
  },
  {
   "cell_type": "markdown",
   "metadata": {},
   "source": [
    "# Confirm that the data was written to a CSV file."
   ]
  },
  {
   "cell_type": "code",
   "execution_count": 190,
   "metadata": {},
   "outputs": [],
   "source": [
    "users_cleaned_data = pd.read_csv('users_data_cleaned.csv')"
   ]
  },
  {
   "cell_type": "code",
   "execution_count": 193,
   "metadata": {},
   "outputs": [
    {
     "data": {
      "text/plain": [
       "(45209, 20)"
      ]
     },
     "execution_count": 193,
     "metadata": {},
     "output_type": "execute_result"
    }
   ],
   "source": [
    "users_cleaned_data.shape"
   ]
  },
  {
   "cell_type": "code",
   "execution_count": null,
   "metadata": {},
   "outputs": [],
   "source": []
  }
 ],
 "metadata": {
  "colab": {
   "authorship_tag": "ABX9TyPAlcEeiiIGcye43NnMQ8AA",
   "collapsed_sections": [],
   "name": "01-ETL.ipynb",
   "provenance": [],
   "toc_visible": true
  },
  "kernelspec": {
   "display_name": "Python 3 (ipykernel)",
   "language": "python",
   "name": "python3"
  },
  "language_info": {
   "codemirror_mode": {
    "name": "ipython",
    "version": 3
   },
   "file_extension": ".py",
   "mimetype": "text/x-python",
   "name": "python",
   "nbconvert_exporter": "python",
   "pygments_lexer": "ipython3",
   "version": "3.9.6"
  }
 },
 "nbformat": 4,
 "nbformat_minor": 1
}
